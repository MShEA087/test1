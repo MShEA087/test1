{
  "nbformat": 4,
  "nbformat_minor": 0,
  "metadata": {
    "colab": {
      "provenance": []
    },
    "kernelspec": {
      "name": "python3",
      "display_name": "Python 3"
    },
    "language_info": {
      "name": "python"
    }
  },
  "cells": [
    {
      "cell_type": "code",
      "execution_count": 2,
      "metadata": {
        "id": "eahKY3ptMBfh"
      },
      "outputs": [],
      "source": [
        "import polars as pl\n",
        "import pandas as pd"
      ]
    },
    {
      "cell_type": "code",
      "source": [
        "pip install --upgrade polars"
      ],
      "metadata": {
        "colab": {
          "base_uri": "https://localhost:8080/"
        },
        "id": "bn9LqyPngS_8",
        "outputId": "da65b17d-342b-42f1-a598-3b7cb88cc549"
      },
      "execution_count": null,
      "outputs": [
        {
          "output_type": "stream",
          "name": "stdout",
          "text": [
            "Requirement already satisfied: polars in /usr/local/lib/python3.11/dist-packages (1.24.0)\n"
          ]
        }
      ]
    },
    {
      "cell_type": "markdown",
      "source": [
        "Считайте датасет из файла train.csv (это данные о выживаемости на Титанике) с помощью polars"
      ],
      "metadata": {
        "id": "BCanSGm2MGOW"
      }
    },
    {
      "cell_type": "code",
      "source": [
        "df_pd = pd.read_csv(\"/content/train.csv\")"
      ],
      "metadata": {
        "id": "USkWxeULMUUy"
      },
      "execution_count": 5,
      "outputs": []
    },
    {
      "cell_type": "code",
      "source": [
        "df_pl = pl.read_csv(\"/content/train.csv\")\n",
        "df_pl\n"
      ],
      "metadata": {
        "colab": {
          "base_uri": "https://localhost:8080/",
          "height": 529
        },
        "id": "s3NxWsMZPQIK",
        "outputId": "09179eab-0ee5-40b9-b671-ba5d9b353bd2"
      },
      "execution_count": 6,
      "outputs": [
        {
          "output_type": "execute_result",
          "data": {
            "text/plain": [
              "shape: (891, 12)\n",
              "┌─────────────┬──────────┬────────┬──────────────────┬───┬────────────┬─────────┬───────┬──────────┐\n",
              "│ PassengerId ┆ Survived ┆ Pclass ┆ Name             ┆ … ┆ Ticket     ┆ Fare    ┆ Cabin ┆ Embarked │\n",
              "│ ---         ┆ ---      ┆ ---    ┆ ---              ┆   ┆ ---        ┆ ---     ┆ ---   ┆ ---      │\n",
              "│ i64         ┆ i64      ┆ i64    ┆ str              ┆   ┆ str        ┆ f64     ┆ str   ┆ str      │\n",
              "╞═════════════╪══════════╪════════╪══════════════════╪═══╪════════════╪═════════╪═══════╪══════════╡\n",
              "│ 1           ┆ 0        ┆ 3      ┆ Braund, Mr. Owen ┆ … ┆ A/5 21171  ┆ 7.25    ┆ null  ┆ S        │\n",
              "│             ┆          ┆        ┆ Harris           ┆   ┆            ┆         ┆       ┆          │\n",
              "│ 2           ┆ 1        ┆ 1      ┆ Cumings, Mrs.    ┆ … ┆ PC 17599   ┆ 71.2833 ┆ C85   ┆ C        │\n",
              "│             ┆          ┆        ┆ John Bradley     ┆   ┆            ┆         ┆       ┆          │\n",
              "│             ┆          ┆        ┆ (Fl…             ┆   ┆            ┆         ┆       ┆          │\n",
              "│ 3           ┆ 1        ┆ 3      ┆ Heikkinen, Miss. ┆ … ┆ STON/O2.   ┆ 7.925   ┆ null  ┆ S        │\n",
              "│             ┆          ┆        ┆ Laina            ┆   ┆ 3101282    ┆         ┆       ┆          │\n",
              "│ 4           ┆ 1        ┆ 1      ┆ Futrelle, Mrs.   ┆ … ┆ 113803     ┆ 53.1    ┆ C123  ┆ S        │\n",
              "│             ┆          ┆        ┆ Jacques Heath (… ┆   ┆            ┆         ┆       ┆          │\n",
              "│ 5           ┆ 0        ┆ 3      ┆ Allen, Mr.       ┆ … ┆ 373450     ┆ 8.05    ┆ null  ┆ S        │\n",
              "│             ┆          ┆        ┆ William Henry    ┆   ┆            ┆         ┆       ┆          │\n",
              "│ …           ┆ …        ┆ …      ┆ …                ┆ … ┆ …          ┆ …       ┆ …     ┆ …        │\n",
              "│ 887         ┆ 0        ┆ 2      ┆ Montvila, Rev.   ┆ … ┆ 211536     ┆ 13.0    ┆ null  ┆ S        │\n",
              "│             ┆          ┆        ┆ Juozas           ┆   ┆            ┆         ┆       ┆          │\n",
              "│ 888         ┆ 1        ┆ 1      ┆ Graham, Miss.    ┆ … ┆ 112053     ┆ 30.0    ┆ B42   ┆ S        │\n",
              "│             ┆          ┆        ┆ Margaret Edith   ┆   ┆            ┆         ┆       ┆          │\n",
              "│ 889         ┆ 0        ┆ 3      ┆ Johnston, Miss.  ┆ … ┆ W./C. 6607 ┆ 23.45   ┆ null  ┆ S        │\n",
              "│             ┆          ┆        ┆ Catherine Hele…  ┆   ┆            ┆         ┆       ┆          │\n",
              "│ 890         ┆ 1        ┆ 1      ┆ Behr, Mr. Karl   ┆ … ┆ 111369     ┆ 30.0    ┆ C148  ┆ C        │\n",
              "│             ┆          ┆        ┆ Howell           ┆   ┆            ┆         ┆       ┆          │\n",
              "│ 891         ┆ 0        ┆ 3      ┆ Dooley, Mr.      ┆ … ┆ 370376     ┆ 7.75    ┆ null  ┆ Q        │\n",
              "│             ┆          ┆        ┆ Patrick          ┆   ┆            ┆         ┆       ┆          │\n",
              "└─────────────┴──────────┴────────┴──────────────────┴───┴────────────┴─────────┴───────┴──────────┘"
            ],
            "text/html": [
              "<div><style>\n",
              ".dataframe > thead > tr,\n",
              ".dataframe > tbody > tr {\n",
              "  text-align: right;\n",
              "  white-space: pre-wrap;\n",
              "}\n",
              "</style>\n",
              "<small>shape: (891, 12)</small><table border=\"1\" class=\"dataframe\"><thead><tr><th>PassengerId</th><th>Survived</th><th>Pclass</th><th>Name</th><th>Sex</th><th>Age</th><th>SibSp</th><th>Parch</th><th>Ticket</th><th>Fare</th><th>Cabin</th><th>Embarked</th></tr><tr><td>i64</td><td>i64</td><td>i64</td><td>str</td><td>str</td><td>f64</td><td>i64</td><td>i64</td><td>str</td><td>f64</td><td>str</td><td>str</td></tr></thead><tbody><tr><td>1</td><td>0</td><td>3</td><td>&quot;Braund, Mr. Owen Harris&quot;</td><td>&quot;male&quot;</td><td>22.0</td><td>1</td><td>0</td><td>&quot;A/5 21171&quot;</td><td>7.25</td><td>null</td><td>&quot;S&quot;</td></tr><tr><td>2</td><td>1</td><td>1</td><td>&quot;Cumings, Mrs. John Bradley (Fl…</td><td>&quot;female&quot;</td><td>38.0</td><td>1</td><td>0</td><td>&quot;PC 17599&quot;</td><td>71.2833</td><td>&quot;C85&quot;</td><td>&quot;C&quot;</td></tr><tr><td>3</td><td>1</td><td>3</td><td>&quot;Heikkinen, Miss. Laina&quot;</td><td>&quot;female&quot;</td><td>26.0</td><td>0</td><td>0</td><td>&quot;STON/O2. 3101282&quot;</td><td>7.925</td><td>null</td><td>&quot;S&quot;</td></tr><tr><td>4</td><td>1</td><td>1</td><td>&quot;Futrelle, Mrs. Jacques Heath (…</td><td>&quot;female&quot;</td><td>35.0</td><td>1</td><td>0</td><td>&quot;113803&quot;</td><td>53.1</td><td>&quot;C123&quot;</td><td>&quot;S&quot;</td></tr><tr><td>5</td><td>0</td><td>3</td><td>&quot;Allen, Mr. William Henry&quot;</td><td>&quot;male&quot;</td><td>35.0</td><td>0</td><td>0</td><td>&quot;373450&quot;</td><td>8.05</td><td>null</td><td>&quot;S&quot;</td></tr><tr><td>&hellip;</td><td>&hellip;</td><td>&hellip;</td><td>&hellip;</td><td>&hellip;</td><td>&hellip;</td><td>&hellip;</td><td>&hellip;</td><td>&hellip;</td><td>&hellip;</td><td>&hellip;</td><td>&hellip;</td></tr><tr><td>887</td><td>0</td><td>2</td><td>&quot;Montvila, Rev. Juozas&quot;</td><td>&quot;male&quot;</td><td>27.0</td><td>0</td><td>0</td><td>&quot;211536&quot;</td><td>13.0</td><td>null</td><td>&quot;S&quot;</td></tr><tr><td>888</td><td>1</td><td>1</td><td>&quot;Graham, Miss. Margaret Edith&quot;</td><td>&quot;female&quot;</td><td>19.0</td><td>0</td><td>0</td><td>&quot;112053&quot;</td><td>30.0</td><td>&quot;B42&quot;</td><td>&quot;S&quot;</td></tr><tr><td>889</td><td>0</td><td>3</td><td>&quot;Johnston, Miss. Catherine Hele…</td><td>&quot;female&quot;</td><td>null</td><td>1</td><td>2</td><td>&quot;W./C. 6607&quot;</td><td>23.45</td><td>null</td><td>&quot;S&quot;</td></tr><tr><td>890</td><td>1</td><td>1</td><td>&quot;Behr, Mr. Karl Howell&quot;</td><td>&quot;male&quot;</td><td>26.0</td><td>0</td><td>0</td><td>&quot;111369&quot;</td><td>30.0</td><td>&quot;C148&quot;</td><td>&quot;C&quot;</td></tr><tr><td>891</td><td>0</td><td>3</td><td>&quot;Dooley, Mr. Patrick&quot;</td><td>&quot;male&quot;</td><td>32.0</td><td>0</td><td>0</td><td>&quot;370376&quot;</td><td>7.75</td><td>null</td><td>&quot;Q&quot;</td></tr></tbody></table></div>"
            ]
          },
          "metadata": {},
          "execution_count": 6
        }
      ]
    },
    {
      "cell_type": "markdown",
      "source": [
        "2.\tВыведите основную информацию о датасете: информацию о типах данных, число пропусков, средние значения и т.д. - 1 балл\n",
        "hint: используйте методы и атрибуты датафрейма: describe(), dtypes, null_count(), mean()..."
      ],
      "metadata": {
        "id": "uJq86P36Mzny"
      }
    },
    {
      "cell_type": "code",
      "source": [
        "df_pl.describe()"
      ],
      "metadata": {
        "colab": {
          "base_uri": "https://localhost:8080/",
          "height": 380
        },
        "id": "5MjZfAQxM3M6",
        "outputId": "46d41fbd-e632-4645-bc42-c992569fc2c7"
      },
      "execution_count": null,
      "outputs": [
        {
          "output_type": "execute_result",
          "data": {
            "text/plain": [
              "shape: (9, 13)\n",
              "┌────────────┬─────────────┬──────────┬──────────┬───┬───────────┬───────────┬───────┬──────────┐\n",
              "│ statistic  ┆ PassengerId ┆ Survived ┆ Pclass   ┆ … ┆ Ticket    ┆ Fare      ┆ Cabin ┆ Embarked │\n",
              "│ ---        ┆ ---         ┆ ---      ┆ ---      ┆   ┆ ---       ┆ ---       ┆ ---   ┆ ---      │\n",
              "│ str        ┆ f64         ┆ f64      ┆ f64      ┆   ┆ str       ┆ f64       ┆ str   ┆ str      │\n",
              "╞════════════╪═════════════╪══════════╪══════════╪═══╪═══════════╪═══════════╪═══════╪══════════╡\n",
              "│ count      ┆ 891.0       ┆ 891.0    ┆ 891.0    ┆ … ┆ 891       ┆ 891.0     ┆ 204   ┆ 889      │\n",
              "│ null_count ┆ 0.0         ┆ 0.0      ┆ 0.0      ┆ … ┆ 0         ┆ 0.0       ┆ 687   ┆ 2        │\n",
              "│ mean       ┆ 446.0       ┆ 0.383838 ┆ 2.308642 ┆ … ┆ null      ┆ 32.204208 ┆ null  ┆ null     │\n",
              "│ std        ┆ 257.353842  ┆ 0.486592 ┆ 0.836071 ┆ … ┆ null      ┆ 49.693429 ┆ null  ┆ null     │\n",
              "│ min        ┆ 1.0         ┆ 0.0      ┆ 1.0      ┆ … ┆ 110152    ┆ 0.0       ┆ A10   ┆ C        │\n",
              "│ 25%        ┆ 224.0       ┆ 0.0      ┆ 2.0      ┆ … ┆ null      ┆ 7.925     ┆ null  ┆ null     │\n",
              "│ 50%        ┆ 446.0       ┆ 0.0      ┆ 3.0      ┆ … ┆ null      ┆ 14.4542   ┆ null  ┆ null     │\n",
              "│ 75%        ┆ 669.0       ┆ 1.0      ┆ 3.0      ┆ … ┆ null      ┆ 31.0      ┆ null  ┆ null     │\n",
              "│ max        ┆ 891.0       ┆ 1.0      ┆ 3.0      ┆ … ┆ WE/P 5735 ┆ 512.3292  ┆ T     ┆ S        │\n",
              "└────────────┴─────────────┴──────────┴──────────┴───┴───────────┴───────────┴───────┴──────────┘"
            ],
            "text/html": [
              "<div><style>\n",
              ".dataframe > thead > tr,\n",
              ".dataframe > tbody > tr {\n",
              "  text-align: right;\n",
              "  white-space: pre-wrap;\n",
              "}\n",
              "</style>\n",
              "<small>shape: (9, 13)</small><table border=\"1\" class=\"dataframe\"><thead><tr><th>statistic</th><th>PassengerId</th><th>Survived</th><th>Pclass</th><th>Name</th><th>Sex</th><th>Age</th><th>SibSp</th><th>Parch</th><th>Ticket</th><th>Fare</th><th>Cabin</th><th>Embarked</th></tr><tr><td>str</td><td>f64</td><td>f64</td><td>f64</td><td>str</td><td>str</td><td>f64</td><td>f64</td><td>f64</td><td>str</td><td>f64</td><td>str</td><td>str</td></tr></thead><tbody><tr><td>&quot;count&quot;</td><td>891.0</td><td>891.0</td><td>891.0</td><td>&quot;891&quot;</td><td>&quot;891&quot;</td><td>714.0</td><td>891.0</td><td>891.0</td><td>&quot;891&quot;</td><td>891.0</td><td>&quot;204&quot;</td><td>&quot;889&quot;</td></tr><tr><td>&quot;null_count&quot;</td><td>0.0</td><td>0.0</td><td>0.0</td><td>&quot;0&quot;</td><td>&quot;0&quot;</td><td>177.0</td><td>0.0</td><td>0.0</td><td>&quot;0&quot;</td><td>0.0</td><td>&quot;687&quot;</td><td>&quot;2&quot;</td></tr><tr><td>&quot;mean&quot;</td><td>446.0</td><td>0.383838</td><td>2.308642</td><td>null</td><td>null</td><td>29.699118</td><td>0.523008</td><td>0.381594</td><td>null</td><td>32.204208</td><td>null</td><td>null</td></tr><tr><td>&quot;std&quot;</td><td>257.353842</td><td>0.486592</td><td>0.836071</td><td>null</td><td>null</td><td>14.526497</td><td>1.102743</td><td>0.806057</td><td>null</td><td>49.693429</td><td>null</td><td>null</td></tr><tr><td>&quot;min&quot;</td><td>1.0</td><td>0.0</td><td>1.0</td><td>&quot;Abbing, Mr. Anthony&quot;</td><td>&quot;female&quot;</td><td>0.42</td><td>0.0</td><td>0.0</td><td>&quot;110152&quot;</td><td>0.0</td><td>&quot;A10&quot;</td><td>&quot;C&quot;</td></tr><tr><td>&quot;25%&quot;</td><td>224.0</td><td>0.0</td><td>2.0</td><td>null</td><td>null</td><td>20.0</td><td>0.0</td><td>0.0</td><td>null</td><td>7.925</td><td>null</td><td>null</td></tr><tr><td>&quot;50%&quot;</td><td>446.0</td><td>0.0</td><td>3.0</td><td>null</td><td>null</td><td>28.0</td><td>0.0</td><td>0.0</td><td>null</td><td>14.4542</td><td>null</td><td>null</td></tr><tr><td>&quot;75%&quot;</td><td>669.0</td><td>1.0</td><td>3.0</td><td>null</td><td>null</td><td>38.0</td><td>1.0</td><td>0.0</td><td>null</td><td>31.0</td><td>null</td><td>null</td></tr><tr><td>&quot;max&quot;</td><td>891.0</td><td>1.0</td><td>3.0</td><td>&quot;van Melkebeke, Mr. Philemon&quot;</td><td>&quot;male&quot;</td><td>80.0</td><td>8.0</td><td>6.0</td><td>&quot;WE/P 5735&quot;</td><td>512.3292</td><td>&quot;T&quot;</td><td>&quot;S&quot;</td></tr></tbody></table></div>"
            ]
          },
          "metadata": {},
          "execution_count": 73
        }
      ]
    },
    {
      "cell_type": "code",
      "source": [
        "print(df_pl.dtypes)\n"
      ],
      "metadata": {
        "colab": {
          "base_uri": "https://localhost:8080/"
        },
        "id": "B5J-iGqaODQV",
        "outputId": "3465e859-34ae-4814-cca8-dc8d2b7386a1"
      },
      "execution_count": null,
      "outputs": [
        {
          "output_type": "stream",
          "name": "stdout",
          "text": [
            "[Int64, Int64, Int64, String, String, Float64, Int64, Int64, String, Float64, String, String]\n"
          ]
        }
      ]
    },
    {
      "cell_type": "code",
      "source": [
        "print(\"\\nЧисло пропусков:\")\n",
        "print(df_pl.null_count())"
      ],
      "metadata": {
        "colab": {
          "base_uri": "https://localhost:8080/"
        },
        "id": "BUResZqIPj4Z",
        "outputId": "3ac3b6f7-6c73-4fc6-e8a6-431b544931c1"
      },
      "execution_count": null,
      "outputs": [
        {
          "output_type": "stream",
          "name": "stdout",
          "text": [
            "\n",
            "Число пропусков:\n",
            "shape: (1, 12)\n",
            "┌─────────────┬──────────┬────────┬──────┬───┬────────┬──────┬───────┬──────────┐\n",
            "│ PassengerId ┆ Survived ┆ Pclass ┆ Name ┆ … ┆ Ticket ┆ Fare ┆ Cabin ┆ Embarked │\n",
            "│ ---         ┆ ---      ┆ ---    ┆ ---  ┆   ┆ ---    ┆ ---  ┆ ---   ┆ ---      │\n",
            "│ u32         ┆ u32      ┆ u32    ┆ u32  ┆   ┆ u32    ┆ u32  ┆ u32   ┆ u32      │\n",
            "╞═════════════╪══════════╪════════╪══════╪═══╪════════╪══════╪═══════╪══════════╡\n",
            "│ 0           ┆ 0        ┆ 0      ┆ 0    ┆ … ┆ 0      ┆ 0    ┆ 687   ┆ 2        │\n",
            "└─────────────┴──────────┴────────┴──────┴───┴────────┴──────┴───────┴──────────┘\n"
          ]
        }
      ]
    },
    {
      "cell_type": "code",
      "source": [
        "print(df_pl.mean())"
      ],
      "metadata": {
        "colab": {
          "base_uri": "https://localhost:8080/"
        },
        "id": "_vJwUGQ3PyYp",
        "outputId": "4248c531-4a7b-4fb9-893f-3de07a9247fd"
      },
      "execution_count": null,
      "outputs": [
        {
          "output_type": "stream",
          "name": "stdout",
          "text": [
            "shape: (1, 12)\n",
            "┌─────────────┬──────────┬──────────┬──────┬───┬────────┬───────────┬───────┬──────────┐\n",
            "│ PassengerId ┆ Survived ┆ Pclass   ┆ Name ┆ … ┆ Ticket ┆ Fare      ┆ Cabin ┆ Embarked │\n",
            "│ ---         ┆ ---      ┆ ---      ┆ ---  ┆   ┆ ---    ┆ ---       ┆ ---   ┆ ---      │\n",
            "│ f64         ┆ f64      ┆ f64      ┆ str  ┆   ┆ str    ┆ f64       ┆ str   ┆ str      │\n",
            "╞═════════════╪══════════╪══════════╪══════╪═══╪════════╪═══════════╪═══════╪══════════╡\n",
            "│ 446.0       ┆ 0.383838 ┆ 2.308642 ┆ null ┆ … ┆ null   ┆ 32.204208 ┆ null  ┆ null     │\n",
            "└─────────────┴──────────┴──────────┴──────┴───┴────────┴───────────┴───────┴──────────┘\n"
          ]
        }
      ]
    },
    {
      "cell_type": "markdown",
      "source": [
        "Посчитайте количество пассажиров каждого класса (Pclass).\n",
        "hint: используйте методы: get_column(), value_counts()...\n"
      ],
      "metadata": {
        "id": "ZjNbsqxgQgXY"
      }
    },
    {
      "cell_type": "code",
      "source": [
        "print(df_pl['Pclass'].value_counts())"
      ],
      "metadata": {
        "colab": {
          "base_uri": "https://localhost:8080/"
        },
        "id": "3L4WBUyPQlDm",
        "outputId": "207b79ac-afc5-4dbb-b9cb-a21077efcae3"
      },
      "execution_count": null,
      "outputs": [
        {
          "output_type": "stream",
          "name": "stdout",
          "text": [
            "shape: (3, 2)\n",
            "┌────────┬───────┐\n",
            "│ Pclass ┆ count │\n",
            "│ ---    ┆ ---   │\n",
            "│ i64    ┆ u32   │\n",
            "╞════════╪═══════╡\n",
            "│ 1      ┆ 216   │\n",
            "│ 2      ┆ 184   │\n",
            "│ 3      ┆ 491   │\n",
            "└────────┴───────┘\n"
          ]
        }
      ]
    },
    {
      "cell_type": "code",
      "source": [
        "df_pl.get_column(\"Pclass\").value_counts()"
      ],
      "metadata": {
        "colab": {
          "base_uri": "https://localhost:8080/",
          "height": 192
        },
        "id": "fuNAFeIJRkJ0",
        "outputId": "e27d5da7-437d-4b7e-dda4-7d252011efca"
      },
      "execution_count": null,
      "outputs": [
        {
          "output_type": "execute_result",
          "data": {
            "text/plain": [
              "shape: (3, 2)\n",
              "┌────────┬───────┐\n",
              "│ Pclass ┆ count │\n",
              "│ ---    ┆ ---   │\n",
              "│ i64    ┆ u32   │\n",
              "╞════════╪═══════╡\n",
              "│ 3      ┆ 491   │\n",
              "│ 2      ┆ 184   │\n",
              "│ 1      ┆ 216   │\n",
              "└────────┴───────┘"
            ],
            "text/html": [
              "<div><style>\n",
              ".dataframe > thead > tr,\n",
              ".dataframe > tbody > tr {\n",
              "  text-align: right;\n",
              "  white-space: pre-wrap;\n",
              "}\n",
              "</style>\n",
              "<small>shape: (3, 2)</small><table border=\"1\" class=\"dataframe\"><thead><tr><th>Pclass</th><th>count</th></tr><tr><td>i64</td><td>u32</td></tr></thead><tbody><tr><td>3</td><td>491</td></tr><tr><td>2</td><td>184</td></tr><tr><td>1</td><td>216</td></tr></tbody></table></div>"
            ]
          },
          "metadata": {},
          "execution_count": 78
        }
      ]
    },
    {
      "cell_type": "markdown",
      "source": [
        "Выведите количество выживших мужчин и женщин на корабле.\n",
        "hint: используйте методы: groupby(), agg(), pl.col(), sum()...\n"
      ],
      "metadata": {
        "id": "0z0-FjhoSAU4"
      }
    },
    {
      "cell_type": "code",
      "source": [
        "df.groupby('Sex')['Survived'].sum()"
      ],
      "metadata": {
        "colab": {
          "base_uri": "https://localhost:8080/",
          "height": 178
        },
        "id": "q0mZvGg2a6Cr",
        "outputId": "035ff7e7-dc86-4422-f4c9-f0008ed3c42d"
      },
      "execution_count": null,
      "outputs": [
        {
          "output_type": "execute_result",
          "data": {
            "text/plain": [
              "Sex\n",
              "female    233\n",
              "male      109\n",
              "Name: Survived, dtype: int64"
            ],
            "text/html": [
              "<div>\n",
              "<style scoped>\n",
              "    .dataframe tbody tr th:only-of-type {\n",
              "        vertical-align: middle;\n",
              "    }\n",
              "\n",
              "    .dataframe tbody tr th {\n",
              "        vertical-align: top;\n",
              "    }\n",
              "\n",
              "    .dataframe thead th {\n",
              "        text-align: right;\n",
              "    }\n",
              "</style>\n",
              "<table border=\"1\" class=\"dataframe\">\n",
              "  <thead>\n",
              "    <tr style=\"text-align: right;\">\n",
              "      <th></th>\n",
              "      <th>Survived</th>\n",
              "    </tr>\n",
              "    <tr>\n",
              "      <th>Sex</th>\n",
              "      <th></th>\n",
              "    </tr>\n",
              "  </thead>\n",
              "  <tbody>\n",
              "    <tr>\n",
              "      <th>female</th>\n",
              "      <td>233</td>\n",
              "    </tr>\n",
              "    <tr>\n",
              "      <th>male</th>\n",
              "      <td>109</td>\n",
              "    </tr>\n",
              "  </tbody>\n",
              "</table>\n",
              "</div><br><label><b>dtype:</b> int64</label>"
            ]
          },
          "metadata": {},
          "execution_count": 79
        }
      ]
    },
    {
      "cell_type": "code",
      "source": [
        "df_pl.group_by(\"Sex\").agg(pl.col(\"Survived\").sum())"
      ],
      "metadata": {
        "colab": {
          "base_uri": "https://localhost:8080/",
          "height": 160
        },
        "id": "Ch3nfvubhT2g",
        "outputId": "4048743a-69d9-41df-ab69-331336819e02"
      },
      "execution_count": null,
      "outputs": [
        {
          "output_type": "execute_result",
          "data": {
            "text/plain": [
              "shape: (2, 2)\n",
              "┌────────┬──────────┐\n",
              "│ Sex    ┆ Survived │\n",
              "│ ---    ┆ ---      │\n",
              "│ str    ┆ i64      │\n",
              "╞════════╪══════════╡\n",
              "│ female ┆ 233      │\n",
              "│ male   ┆ 109      │\n",
              "└────────┴──────────┘"
            ],
            "text/html": [
              "<div><style>\n",
              ".dataframe > thead > tr,\n",
              ".dataframe > tbody > tr {\n",
              "  text-align: right;\n",
              "  white-space: pre-wrap;\n",
              "}\n",
              "</style>\n",
              "<small>shape: (2, 2)</small><table border=\"1\" class=\"dataframe\"><thead><tr><th>Sex</th><th>Survived</th></tr><tr><td>str</td><td>i64</td></tr></thead><tbody><tr><td>&quot;female&quot;</td><td>233</td></tr><tr><td>&quot;male&quot;</td><td>109</td></tr></tbody></table></div>"
            ]
          },
          "metadata": {},
          "execution_count": 87
        }
      ]
    },
    {
      "cell_type": "markdown",
      "source": [
        "Выведите часть таблицы с пассажирами, возраст которых больше 44 лет\n",
        "hint: используйте методы: filter(), pl.col()\n"
      ],
      "metadata": {
        "id": "ky-jKynjh4fO"
      }
    },
    {
      "cell_type": "code",
      "source": [
        "df_pl.filter(pl.col('Age') > 44)"
      ],
      "metadata": {
        "colab": {
          "base_uri": "https://localhost:8080/",
          "height": 443
        },
        "id": "71wjfffXh30q",
        "outputId": "f5b63bf7-b232-41bb-cf55-5d7ec7af9a74"
      },
      "execution_count": null,
      "outputs": [
        {
          "output_type": "execute_result",
          "data": {
            "text/plain": [
              "shape: (115, 12)\n",
              "┌─────────────┬──────────┬────────┬──────────────────┬───┬────────────┬─────────┬───────┬──────────┐\n",
              "│ PassengerId ┆ Survived ┆ Pclass ┆ Name             ┆ … ┆ Ticket     ┆ Fare    ┆ Cabin ┆ Embarked │\n",
              "│ ---         ┆ ---      ┆ ---    ┆ ---              ┆   ┆ ---        ┆ ---     ┆ ---   ┆ ---      │\n",
              "│ i64         ┆ i64      ┆ i64    ┆ str              ┆   ┆ str        ┆ f64     ┆ str   ┆ str      │\n",
              "╞═════════════╪══════════╪════════╪══════════════════╪═══╪════════════╪═════════╪═══════╪══════════╡\n",
              "│ 7           ┆ 0        ┆ 1      ┆ McCarthy, Mr.    ┆ … ┆ 17463      ┆ 51.8625 ┆ E46   ┆ S        │\n",
              "│             ┆          ┆        ┆ Timothy J        ┆   ┆            ┆         ┆       ┆          │\n",
              "│ 12          ┆ 1        ┆ 1      ┆ Bonnell, Miss.   ┆ … ┆ 113783     ┆ 26.55   ┆ C103  ┆ S        │\n",
              "│             ┆          ┆        ┆ Elizabeth        ┆   ┆            ┆         ┆       ┆          │\n",
              "│ 16          ┆ 1        ┆ 2      ┆ Hewlett, Mrs.    ┆ … ┆ 248706     ┆ 16.0    ┆ null  ┆ S        │\n",
              "│             ┆          ┆        ┆ (Mary D          ┆   ┆            ┆         ┆       ┆          │\n",
              "│             ┆          ┆        ┆ Kingcome…        ┆   ┆            ┆         ┆       ┆          │\n",
              "│ 34          ┆ 0        ┆ 2      ┆ Wheadon, Mr.     ┆ … ┆ C.A. 24579 ┆ 10.5    ┆ null  ┆ S        │\n",
              "│             ┆          ┆        ┆ Edward H         ┆   ┆            ┆         ┆       ┆          │\n",
              "│ 53          ┆ 1        ┆ 1      ┆ Harper, Mrs.     ┆ … ┆ PC 17572   ┆ 76.7292 ┆ D33   ┆ C        │\n",
              "│             ┆          ┆        ┆ Henry Sleeper    ┆   ┆            ┆         ┆       ┆          │\n",
              "│             ┆          ┆        ┆ (My…             ┆   ┆            ┆         ┆       ┆          │\n",
              "│ …           ┆ …        ┆ …      ┆ …                ┆ … ┆ …          ┆ …       ┆ …     ┆ …        │\n",
              "│ 858         ┆ 1        ┆ 1      ┆ Daly, Mr. Peter  ┆ … ┆ 113055     ┆ 26.55   ┆ E17   ┆ S        │\n",
              "│             ┆          ┆        ┆ Denis            ┆   ┆            ┆         ┆       ┆          │\n",
              "│ 863         ┆ 1        ┆ 1      ┆ Swift, Mrs.      ┆ … ┆ 17466      ┆ 25.9292 ┆ D17   ┆ S        │\n",
              "│             ┆          ┆        ┆ Frederick Joel   ┆   ┆            ┆         ┆       ┆          │\n",
              "│             ┆          ┆        ┆ (Ma…             ┆   ┆            ┆         ┆       ┆          │\n",
              "│ 872         ┆ 1        ┆ 1      ┆ Beckwith, Mrs.   ┆ … ┆ 11751      ┆ 52.5542 ┆ D35   ┆ S        │\n",
              "│             ┆          ┆        ┆ Richard Leonard… ┆   ┆            ┆         ┆       ┆          │\n",
              "│ 874         ┆ 0        ┆ 3      ┆ Vander Cruyssen, ┆ … ┆ 345765     ┆ 9.0     ┆ null  ┆ S        │\n",
              "│             ┆          ┆        ┆ Mr. Victor       ┆   ┆            ┆         ┆       ┆          │\n",
              "│ 880         ┆ 1        ┆ 1      ┆ Potter, Mrs.     ┆ … ┆ 11767      ┆ 83.1583 ┆ C50   ┆ C        │\n",
              "│             ┆          ┆        ┆ Thomas Jr (Lily  ┆   ┆            ┆         ┆       ┆          │\n",
              "│             ┆          ┆        ┆ A…               ┆   ┆            ┆         ┆       ┆          │\n",
              "└─────────────┴──────────┴────────┴──────────────────┴───┴────────────┴─────────┴───────┴──────────┘"
            ],
            "text/html": [
              "<div><style>\n",
              ".dataframe > thead > tr,\n",
              ".dataframe > tbody > tr {\n",
              "  text-align: right;\n",
              "  white-space: pre-wrap;\n",
              "}\n",
              "</style>\n",
              "<small>shape: (115, 12)</small><table border=\"1\" class=\"dataframe\"><thead><tr><th>PassengerId</th><th>Survived</th><th>Pclass</th><th>Name</th><th>Sex</th><th>Age</th><th>SibSp</th><th>Parch</th><th>Ticket</th><th>Fare</th><th>Cabin</th><th>Embarked</th></tr><tr><td>i64</td><td>i64</td><td>i64</td><td>str</td><td>str</td><td>f64</td><td>i64</td><td>i64</td><td>str</td><td>f64</td><td>str</td><td>str</td></tr></thead><tbody><tr><td>7</td><td>0</td><td>1</td><td>&quot;McCarthy, Mr. Timothy J&quot;</td><td>&quot;male&quot;</td><td>54.0</td><td>0</td><td>0</td><td>&quot;17463&quot;</td><td>51.8625</td><td>&quot;E46&quot;</td><td>&quot;S&quot;</td></tr><tr><td>12</td><td>1</td><td>1</td><td>&quot;Bonnell, Miss. Elizabeth&quot;</td><td>&quot;female&quot;</td><td>58.0</td><td>0</td><td>0</td><td>&quot;113783&quot;</td><td>26.55</td><td>&quot;C103&quot;</td><td>&quot;S&quot;</td></tr><tr><td>16</td><td>1</td><td>2</td><td>&quot;Hewlett, Mrs. (Mary D Kingcome…</td><td>&quot;female&quot;</td><td>55.0</td><td>0</td><td>0</td><td>&quot;248706&quot;</td><td>16.0</td><td>null</td><td>&quot;S&quot;</td></tr><tr><td>34</td><td>0</td><td>2</td><td>&quot;Wheadon, Mr. Edward H&quot;</td><td>&quot;male&quot;</td><td>66.0</td><td>0</td><td>0</td><td>&quot;C.A. 24579&quot;</td><td>10.5</td><td>null</td><td>&quot;S&quot;</td></tr><tr><td>53</td><td>1</td><td>1</td><td>&quot;Harper, Mrs. Henry Sleeper (My…</td><td>&quot;female&quot;</td><td>49.0</td><td>1</td><td>0</td><td>&quot;PC 17572&quot;</td><td>76.7292</td><td>&quot;D33&quot;</td><td>&quot;C&quot;</td></tr><tr><td>&hellip;</td><td>&hellip;</td><td>&hellip;</td><td>&hellip;</td><td>&hellip;</td><td>&hellip;</td><td>&hellip;</td><td>&hellip;</td><td>&hellip;</td><td>&hellip;</td><td>&hellip;</td><td>&hellip;</td></tr><tr><td>858</td><td>1</td><td>1</td><td>&quot;Daly, Mr. Peter Denis &quot;</td><td>&quot;male&quot;</td><td>51.0</td><td>0</td><td>0</td><td>&quot;113055&quot;</td><td>26.55</td><td>&quot;E17&quot;</td><td>&quot;S&quot;</td></tr><tr><td>863</td><td>1</td><td>1</td><td>&quot;Swift, Mrs. Frederick Joel (Ma…</td><td>&quot;female&quot;</td><td>48.0</td><td>0</td><td>0</td><td>&quot;17466&quot;</td><td>25.9292</td><td>&quot;D17&quot;</td><td>&quot;S&quot;</td></tr><tr><td>872</td><td>1</td><td>1</td><td>&quot;Beckwith, Mrs. Richard Leonard…</td><td>&quot;female&quot;</td><td>47.0</td><td>1</td><td>1</td><td>&quot;11751&quot;</td><td>52.5542</td><td>&quot;D35&quot;</td><td>&quot;S&quot;</td></tr><tr><td>874</td><td>0</td><td>3</td><td>&quot;Vander Cruyssen, Mr. Victor&quot;</td><td>&quot;male&quot;</td><td>47.0</td><td>0</td><td>0</td><td>&quot;345765&quot;</td><td>9.0</td><td>null</td><td>&quot;S&quot;</td></tr><tr><td>880</td><td>1</td><td>1</td><td>&quot;Potter, Mrs. Thomas Jr (Lily A…</td><td>&quot;female&quot;</td><td>56.0</td><td>0</td><td>1</td><td>&quot;11767&quot;</td><td>83.1583</td><td>&quot;C50&quot;</td><td>&quot;C&quot;</td></tr></tbody></table></div>"
            ]
          },
          "metadata": {},
          "execution_count": 86
        }
      ]
    },
    {
      "cell_type": "markdown",
      "source": [
        "Считайте датасет из файла train.csv (это данные о выживаемости на Титанике) с помощью pandas\n",
        "\n"
      ],
      "metadata": {
        "id": "kV1-nMXYf-Tq"
      }
    },
    {
      "cell_type": "code",
      "source": [
        "df_pd = pd.read_csv(\"/content/train.csv\")"
      ],
      "metadata": {
        "id": "ocLbNmyujBT2"
      },
      "execution_count": null,
      "outputs": []
    },
    {
      "cell_type": "markdown",
      "source": [
        "Посчитайте средний возраст пассажиров и его стандартное отклонение с помощью bottleneck - 1 бал\n",
        "hint: используйте методы: bn.nanmean(), bn.nanstd()\n"
      ],
      "metadata": {
        "id": "d-nGMzAEjA2w"
      }
    },
    {
      "cell_type": "code",
      "source": [
        "import numpy as np"
      ],
      "metadata": {
        "id": "pkcKg47cstz3"
      },
      "execution_count": null,
      "outputs": []
    },
    {
      "cell_type": "code",
      "source": [
        "!pip install bottleneck\n",
        "import bottleneck as bn"
      ],
      "metadata": {
        "colab": {
          "base_uri": "https://localhost:8080/"
        },
        "id": "VE0r0XgNjSo5",
        "outputId": "3412d9c0-0023-4b82-d97e-f3e4faefa2f1"
      },
      "execution_count": null,
      "outputs": [
        {
          "output_type": "stream",
          "name": "stdout",
          "text": [
            "Requirement already satisfied: bottleneck in /usr/local/lib/python3.11/dist-packages (1.4.2)\n",
            "Requirement already satisfied: numpy in /usr/local/lib/python3.11/dist-packages (from bottleneck) (1.26.4)\n"
          ]
        }
      ]
    },
    {
      "cell_type": "code",
      "source": [
        "ages = df_pd['Age'].values\n",
        "ages = ages[~pd.isna(ages)]\n",
        "mean_age = bn.nanmean(ages)  # Средний возраст\n",
        "std_age = bn.nanstd(ages)    # Стандартное отклонение возраста\n",
        "\n",
        "print(f'Средний возраст пассажиров: {mean_age}')\n",
        "print(f'Стандартное отклонение возраста: {std_age}')\n",
        "\n"
      ],
      "metadata": {
        "colab": {
          "base_uri": "https://localhost:8080/"
        },
        "id": "J3WbUEqSkH1d",
        "outputId": "862b4d4a-9323-43d9-ecea-db1af1d28142"
      },
      "execution_count": null,
      "outputs": [
        {
          "output_type": "stream",
          "name": "stdout",
          "text": [
            "Средний возраст пассажиров: 29.69911764705882\n",
            "Стандартное отклонение возраста: 14.516321150817317\n"
          ]
        }
      ]
    },
    {
      "cell_type": "code",
      "source": [
        "ages = df_pd['Age'].values\n",
        "mean_age = bn.nanmean(ages)  # Средний возраст\n",
        "std_age = bn.nanstd(ages)    # Стандартное отклонение возраста\n",
        "\n",
        "print(f'Средний возраст пассажиров: {mean_age}')\n",
        "print(f'Стандартное отклонение возраста: {std_age}')"
      ],
      "metadata": {
        "colab": {
          "base_uri": "https://localhost:8080/"
        },
        "id": "aS9hia4nmQQ-",
        "outputId": "3627a67a-8676-47b6-e284-c1103785b35c"
      },
      "execution_count": null,
      "outputs": [
        {
          "output_type": "stream",
          "name": "stdout",
          "text": [
            "Средний возраст пассажиров: 29.69911764705882\n",
            "Стандартное отклонение возраста: 14.516321150817317\n"
          ]
        }
      ]
    },
    {
      "cell_type": "markdown",
      "source": [
        "Для каждого пассажира умножьте значение столбца Fare на 1.3 и сохраните результаты как новый столбец Fare_new\n",
        "hint: используйте методы: .itertuples() или apply()\n"
      ],
      "metadata": {
        "id": "IvbOr8E8mejZ"
      }
    },
    {
      "cell_type": "code",
      "source": [
        "!pip install pandarallel\n",
        "!pip install mapply\n",
        "!pip install parallel-pandas\n",
        "!pip install swifter"
      ],
      "metadata": {
        "colab": {
          "base_uri": "https://localhost:8080/"
        },
        "id": "PgC3pRNhml0L",
        "outputId": "b09b7401-8215-4b14-8c28-4143d33a3294"
      },
      "execution_count": null,
      "outputs": [
        {
          "output_type": "stream",
          "name": "stdout",
          "text": [
            "Requirement already satisfied: pandarallel in /usr/local/lib/python3.11/dist-packages (1.6.5)\n",
            "Requirement already satisfied: dill>=0.3.1 in /usr/local/lib/python3.11/dist-packages (from pandarallel) (0.3.9)\n",
            "Requirement already satisfied: pandas>=1 in /usr/local/lib/python3.11/dist-packages (from pandarallel) (2.2.2)\n",
            "Requirement already satisfied: psutil in /usr/local/lib/python3.11/dist-packages (from pandarallel) (5.9.5)\n",
            "Requirement already satisfied: numpy>=1.23.2 in /usr/local/lib/python3.11/dist-packages (from pandas>=1->pandarallel) (1.26.4)\n",
            "Requirement already satisfied: python-dateutil>=2.8.2 in /usr/local/lib/python3.11/dist-packages (from pandas>=1->pandarallel) (2.8.2)\n",
            "Requirement already satisfied: pytz>=2020.1 in /usr/local/lib/python3.11/dist-packages (from pandas>=1->pandarallel) (2025.1)\n",
            "Requirement already satisfied: tzdata>=2022.7 in /usr/local/lib/python3.11/dist-packages (from pandas>=1->pandarallel) (2025.1)\n",
            "Requirement already satisfied: six>=1.5 in /usr/local/lib/python3.11/dist-packages (from python-dateutil>=2.8.2->pandas>=1->pandarallel) (1.17.0)\n",
            "Requirement already satisfied: mapply in /usr/local/lib/python3.11/dist-packages (0.1.27)\n",
            "Requirement already satisfied: pathos>=0.3.1 in /usr/local/lib/python3.11/dist-packages (from mapply) (0.3.3)\n",
            "Requirement already satisfied: multiprocess in /usr/local/lib/python3.11/dist-packages (from mapply) (0.70.17)\n",
            "Requirement already satisfied: psutil in /usr/local/lib/python3.11/dist-packages (from mapply) (5.9.5)\n",
            "Requirement already satisfied: tqdm>=4.27 in /usr/local/lib/python3.11/dist-packages (from mapply) (4.67.1)\n",
            "Requirement already satisfied: pandas~=2.1 in /usr/local/lib/python3.11/dist-packages (from mapply) (2.2.2)\n",
            "Requirement already satisfied: numpy>=1.23.2 in /usr/local/lib/python3.11/dist-packages (from pandas~=2.1->mapply) (1.26.4)\n",
            "Requirement already satisfied: python-dateutil>=2.8.2 in /usr/local/lib/python3.11/dist-packages (from pandas~=2.1->mapply) (2.8.2)\n",
            "Requirement already satisfied: pytz>=2020.1 in /usr/local/lib/python3.11/dist-packages (from pandas~=2.1->mapply) (2025.1)\n",
            "Requirement already satisfied: tzdata>=2022.7 in /usr/local/lib/python3.11/dist-packages (from pandas~=2.1->mapply) (2025.1)\n",
            "Requirement already satisfied: ppft>=1.7.6.9 in /usr/local/lib/python3.11/dist-packages (from pathos>=0.3.1->mapply) (1.7.6.9)\n",
            "Requirement already satisfied: dill>=0.3.9 in /usr/local/lib/python3.11/dist-packages (from pathos>=0.3.1->mapply) (0.3.9)\n",
            "Requirement already satisfied: pox>=0.3.5 in /usr/local/lib/python3.11/dist-packages (from pathos>=0.3.1->mapply) (0.3.5)\n",
            "Requirement already satisfied: six>=1.5 in /usr/local/lib/python3.11/dist-packages (from python-dateutil>=2.8.2->pandas~=2.1->mapply) (1.17.0)\n",
            "Requirement already satisfied: parallel-pandas in /usr/local/lib/python3.11/dist-packages (0.6.5)\n",
            "Requirement already satisfied: pandas>=1.4.0 in /usr/local/lib/python3.11/dist-packages (from parallel-pandas) (2.2.2)\n",
            "Requirement already satisfied: dill in /usr/local/lib/python3.11/dist-packages (from parallel-pandas) (0.3.9)\n",
            "Requirement already satisfied: psutil in /usr/local/lib/python3.11/dist-packages (from parallel-pandas) (5.9.5)\n",
            "Requirement already satisfied: tqdm in /usr/local/lib/python3.11/dist-packages (from parallel-pandas) (4.67.1)\n",
            "Requirement already satisfied: scipy in /usr/local/lib/python3.11/dist-packages (from parallel-pandas) (1.13.1)\n",
            "Requirement already satisfied: numpy>=1.23.2 in /usr/local/lib/python3.11/dist-packages (from pandas>=1.4.0->parallel-pandas) (1.26.4)\n",
            "Requirement already satisfied: python-dateutil>=2.8.2 in /usr/local/lib/python3.11/dist-packages (from pandas>=1.4.0->parallel-pandas) (2.8.2)\n",
            "Requirement already satisfied: pytz>=2020.1 in /usr/local/lib/python3.11/dist-packages (from pandas>=1.4.0->parallel-pandas) (2025.1)\n",
            "Requirement already satisfied: tzdata>=2022.7 in /usr/local/lib/python3.11/dist-packages (from pandas>=1.4.0->parallel-pandas) (2025.1)\n",
            "Requirement already satisfied: six>=1.5 in /usr/local/lib/python3.11/dist-packages (from python-dateutil>=2.8.2->pandas>=1.4.0->parallel-pandas) (1.17.0)\n",
            "Requirement already satisfied: swifter in /usr/local/lib/python3.11/dist-packages (1.4.0)\n",
            "Requirement already satisfied: pandas>=1.0.0 in /usr/local/lib/python3.11/dist-packages (from swifter) (2.2.2)\n",
            "Requirement already satisfied: psutil>=5.6.6 in /usr/local/lib/python3.11/dist-packages (from swifter) (5.9.5)\n",
            "Requirement already satisfied: dask>=2.10.0 in /usr/local/lib/python3.11/dist-packages (from dask[dataframe]>=2.10.0->swifter) (2024.12.1)\n",
            "Requirement already satisfied: tqdm>=4.33.0 in /usr/local/lib/python3.11/dist-packages (from swifter) (4.67.1)\n",
            "Requirement already satisfied: click>=8.1 in /usr/local/lib/python3.11/dist-packages (from dask>=2.10.0->dask[dataframe]>=2.10.0->swifter) (8.1.8)\n",
            "Requirement already satisfied: cloudpickle>=3.0.0 in /usr/local/lib/python3.11/dist-packages (from dask>=2.10.0->dask[dataframe]>=2.10.0->swifter) (3.1.1)\n",
            "Requirement already satisfied: fsspec>=2021.09.0 in /usr/local/lib/python3.11/dist-packages (from dask>=2.10.0->dask[dataframe]>=2.10.0->swifter) (2024.10.0)\n",
            "Requirement already satisfied: packaging>=20.0 in /usr/local/lib/python3.11/dist-packages (from dask>=2.10.0->dask[dataframe]>=2.10.0->swifter) (24.2)\n",
            "Requirement already satisfied: partd>=1.4.0 in /usr/local/lib/python3.11/dist-packages (from dask>=2.10.0->dask[dataframe]>=2.10.0->swifter) (1.4.2)\n",
            "Requirement already satisfied: pyyaml>=5.3.1 in /usr/local/lib/python3.11/dist-packages (from dask>=2.10.0->dask[dataframe]>=2.10.0->swifter) (6.0.2)\n",
            "Requirement already satisfied: toolz>=0.10.0 in /usr/local/lib/python3.11/dist-packages (from dask>=2.10.0->dask[dataframe]>=2.10.0->swifter) (0.12.1)\n",
            "Requirement already satisfied: importlib_metadata>=4.13.0 in /usr/local/lib/python3.11/dist-packages (from dask>=2.10.0->dask[dataframe]>=2.10.0->swifter) (8.6.1)\n",
            "Requirement already satisfied: dask-expr<1.2,>=1.1 in /usr/local/lib/python3.11/dist-packages (from dask[dataframe]>=2.10.0->swifter) (1.1.21)\n",
            "Requirement already satisfied: numpy>=1.23.2 in /usr/local/lib/python3.11/dist-packages (from pandas>=1.0.0->swifter) (1.26.4)\n",
            "Requirement already satisfied: python-dateutil>=2.8.2 in /usr/local/lib/python3.11/dist-packages (from pandas>=1.0.0->swifter) (2.8.2)\n",
            "Requirement already satisfied: pytz>=2020.1 in /usr/local/lib/python3.11/dist-packages (from pandas>=1.0.0->swifter) (2025.1)\n",
            "Requirement already satisfied: tzdata>=2022.7 in /usr/local/lib/python3.11/dist-packages (from pandas>=1.0.0->swifter) (2025.1)\n",
            "Requirement already satisfied: pyarrow>=14.0.1 in /usr/local/lib/python3.11/dist-packages (from dask-expr<1.2,>=1.1->dask[dataframe]>=2.10.0->swifter) (18.1.0)\n",
            "Requirement already satisfied: zipp>=3.20 in /usr/local/lib/python3.11/dist-packages (from importlib_metadata>=4.13.0->dask>=2.10.0->dask[dataframe]>=2.10.0->swifter) (3.21.0)\n",
            "Requirement already satisfied: locket in /usr/local/lib/python3.11/dist-packages (from partd>=1.4.0->dask>=2.10.0->dask[dataframe]>=2.10.0->swifter) (1.0.0)\n",
            "Requirement already satisfied: six>=1.5 in /usr/local/lib/python3.11/dist-packages (from python-dateutil>=2.8.2->pandas>=1.0.0->swifter) (1.17.0)\n"
          ]
        }
      ]
    },
    {
      "cell_type": "code",
      "source": [
        "df_pd['Fare']"
      ],
      "metadata": {
        "colab": {
          "base_uri": "https://localhost:8080/",
          "height": 458
        },
        "id": "bg04DbyNpOfD",
        "outputId": "405b040d-2604-4a1e-c8c7-b8d55ab52bb0"
      },
      "execution_count": null,
      "outputs": [
        {
          "output_type": "execute_result",
          "data": {
            "text/plain": [
              "0       7.2500\n",
              "1      71.2833\n",
              "2       7.9250\n",
              "3      53.1000\n",
              "4       8.0500\n",
              "        ...   \n",
              "886    13.0000\n",
              "887    30.0000\n",
              "888    23.4500\n",
              "889    30.0000\n",
              "890     7.7500\n",
              "Name: Fare, Length: 891, dtype: float64"
            ],
            "text/html": [
              "<div>\n",
              "<style scoped>\n",
              "    .dataframe tbody tr th:only-of-type {\n",
              "        vertical-align: middle;\n",
              "    }\n",
              "\n",
              "    .dataframe tbody tr th {\n",
              "        vertical-align: top;\n",
              "    }\n",
              "\n",
              "    .dataframe thead th {\n",
              "        text-align: right;\n",
              "    }\n",
              "</style>\n",
              "<table border=\"1\" class=\"dataframe\">\n",
              "  <thead>\n",
              "    <tr style=\"text-align: right;\">\n",
              "      <th></th>\n",
              "      <th>Fare</th>\n",
              "    </tr>\n",
              "  </thead>\n",
              "  <tbody>\n",
              "    <tr>\n",
              "      <th>0</th>\n",
              "      <td>7.2500</td>\n",
              "    </tr>\n",
              "    <tr>\n",
              "      <th>1</th>\n",
              "      <td>71.2833</td>\n",
              "    </tr>\n",
              "    <tr>\n",
              "      <th>2</th>\n",
              "      <td>7.9250</td>\n",
              "    </tr>\n",
              "    <tr>\n",
              "      <th>3</th>\n",
              "      <td>53.1000</td>\n",
              "    </tr>\n",
              "    <tr>\n",
              "      <th>4</th>\n",
              "      <td>8.0500</td>\n",
              "    </tr>\n",
              "    <tr>\n",
              "      <th>...</th>\n",
              "      <td>...</td>\n",
              "    </tr>\n",
              "    <tr>\n",
              "      <th>886</th>\n",
              "      <td>13.0000</td>\n",
              "    </tr>\n",
              "    <tr>\n",
              "      <th>887</th>\n",
              "      <td>30.0000</td>\n",
              "    </tr>\n",
              "    <tr>\n",
              "      <th>888</th>\n",
              "      <td>23.4500</td>\n",
              "    </tr>\n",
              "    <tr>\n",
              "      <th>889</th>\n",
              "      <td>30.0000</td>\n",
              "    </tr>\n",
              "    <tr>\n",
              "      <th>890</th>\n",
              "      <td>7.7500</td>\n",
              "    </tr>\n",
              "  </tbody>\n",
              "</table>\n",
              "<p>891 rows × 1 columns</p>\n",
              "</div><br><label><b>dtype:</b> float64</label>"
            ]
          },
          "metadata": {},
          "execution_count": 102
        }
      ]
    },
    {
      "cell_type": "code",
      "source": [
        "df_pd['Fare_new'] = df_pd['Fare'].apply(lambda x: x * 1.3)\n",
        "df_pd['Fare_new']"
      ],
      "metadata": {
        "colab": {
          "base_uri": "https://localhost:8080/",
          "height": 458
        },
        "id": "QwfyKNYWoF3s",
        "outputId": "74f84e28-9724-467e-e889-2dde900c3eee"
      },
      "execution_count": null,
      "outputs": [
        {
          "output_type": "execute_result",
          "data": {
            "text/plain": [
              "0       9.42500\n",
              "1      92.66829\n",
              "2      10.30250\n",
              "3      69.03000\n",
              "4      10.46500\n",
              "         ...   \n",
              "886    16.90000\n",
              "887    39.00000\n",
              "888    30.48500\n",
              "889    39.00000\n",
              "890    10.07500\n",
              "Name: Fare_new, Length: 891, dtype: float64"
            ],
            "text/html": [
              "<div>\n",
              "<style scoped>\n",
              "    .dataframe tbody tr th:only-of-type {\n",
              "        vertical-align: middle;\n",
              "    }\n",
              "\n",
              "    .dataframe tbody tr th {\n",
              "        vertical-align: top;\n",
              "    }\n",
              "\n",
              "    .dataframe thead th {\n",
              "        text-align: right;\n",
              "    }\n",
              "</style>\n",
              "<table border=\"1\" class=\"dataframe\">\n",
              "  <thead>\n",
              "    <tr style=\"text-align: right;\">\n",
              "      <th></th>\n",
              "      <th>Fare_new</th>\n",
              "    </tr>\n",
              "  </thead>\n",
              "  <tbody>\n",
              "    <tr>\n",
              "      <th>0</th>\n",
              "      <td>9.42500</td>\n",
              "    </tr>\n",
              "    <tr>\n",
              "      <th>1</th>\n",
              "      <td>92.66829</td>\n",
              "    </tr>\n",
              "    <tr>\n",
              "      <th>2</th>\n",
              "      <td>10.30250</td>\n",
              "    </tr>\n",
              "    <tr>\n",
              "      <th>3</th>\n",
              "      <td>69.03000</td>\n",
              "    </tr>\n",
              "    <tr>\n",
              "      <th>4</th>\n",
              "      <td>10.46500</td>\n",
              "    </tr>\n",
              "    <tr>\n",
              "      <th>...</th>\n",
              "      <td>...</td>\n",
              "    </tr>\n",
              "    <tr>\n",
              "      <th>886</th>\n",
              "      <td>16.90000</td>\n",
              "    </tr>\n",
              "    <tr>\n",
              "      <th>887</th>\n",
              "      <td>39.00000</td>\n",
              "    </tr>\n",
              "    <tr>\n",
              "      <th>888</th>\n",
              "      <td>30.48500</td>\n",
              "    </tr>\n",
              "    <tr>\n",
              "      <th>889</th>\n",
              "      <td>39.00000</td>\n",
              "    </tr>\n",
              "    <tr>\n",
              "      <th>890</th>\n",
              "      <td>10.07500</td>\n",
              "    </tr>\n",
              "  </tbody>\n",
              "</table>\n",
              "<p>891 rows × 1 columns</p>\n",
              "</div><br><label><b>dtype:</b> float64</label>"
            ]
          },
          "metadata": {},
          "execution_count": 104
        }
      ]
    },
    {
      "cell_type": "markdown",
      "source": [
        "Считайте датасет из файла Housing.csv (это данные о ценах домов) с помощью pandas"
      ],
      "metadata": {
        "id": "9OfqxqdBqWvp"
      }
    },
    {
      "cell_type": "code",
      "source": [
        "df_pd2 = pd.read_csv(\"/content/Housing.csv\")\n",
        "df_pd2"
      ],
      "metadata": {
        "colab": {
          "base_uri": "https://localhost:8080/",
          "height": 443
        },
        "id": "vWPy9w_GqY64",
        "outputId": "cd1d2fb9-19fd-483e-8857-4cca5e5c2934"
      },
      "execution_count": 3,
      "outputs": [
        {
          "output_type": "execute_result",
          "data": {
            "text/plain": [
              "        price  area  bedrooms  bathrooms  stories mainroad guestroom basement  \\\n",
              "0    13300000  7420         4          2        3      yes        no       no   \n",
              "1    12250000  8960         4          4        4      yes        no       no   \n",
              "2    12250000  9960         3          2        2      yes        no      yes   \n",
              "3    12215000  7500         4          2        2      yes        no      yes   \n",
              "4    11410000  7420         4          1        2      yes       yes      yes   \n",
              "..        ...   ...       ...        ...      ...      ...       ...      ...   \n",
              "540   1820000  3000         2          1        1      yes        no      yes   \n",
              "541   1767150  2400         3          1        1       no        no       no   \n",
              "542   1750000  3620         2          1        1      yes        no       no   \n",
              "543   1750000  2910         3          1        1       no        no       no   \n",
              "544   1750000  3850         3          1        2      yes        no       no   \n",
              "\n",
              "    hotwaterheating airconditioning  parking prefarea furnishingstatus  \n",
              "0                no             yes        2      yes        furnished  \n",
              "1                no             yes        3       no        furnished  \n",
              "2                no              no        2      yes   semi-furnished  \n",
              "3                no             yes        3      yes        furnished  \n",
              "4                no             yes        2       no        furnished  \n",
              "..              ...             ...      ...      ...              ...  \n",
              "540              no              no        2       no      unfurnished  \n",
              "541              no              no        0       no   semi-furnished  \n",
              "542              no              no        0       no      unfurnished  \n",
              "543              no              no        0       no        furnished  \n",
              "544              no              no        0       no      unfurnished  \n",
              "\n",
              "[545 rows x 13 columns]"
            ],
            "text/html": [
              "\n",
              "  <div id=\"df-d46bbfdc-bfad-4c42-8b07-2f279fd21240\" class=\"colab-df-container\">\n",
              "    <div>\n",
              "<style scoped>\n",
              "    .dataframe tbody tr th:only-of-type {\n",
              "        vertical-align: middle;\n",
              "    }\n",
              "\n",
              "    .dataframe tbody tr th {\n",
              "        vertical-align: top;\n",
              "    }\n",
              "\n",
              "    .dataframe thead th {\n",
              "        text-align: right;\n",
              "    }\n",
              "</style>\n",
              "<table border=\"1\" class=\"dataframe\">\n",
              "  <thead>\n",
              "    <tr style=\"text-align: right;\">\n",
              "      <th></th>\n",
              "      <th>price</th>\n",
              "      <th>area</th>\n",
              "      <th>bedrooms</th>\n",
              "      <th>bathrooms</th>\n",
              "      <th>stories</th>\n",
              "      <th>mainroad</th>\n",
              "      <th>guestroom</th>\n",
              "      <th>basement</th>\n",
              "      <th>hotwaterheating</th>\n",
              "      <th>airconditioning</th>\n",
              "      <th>parking</th>\n",
              "      <th>prefarea</th>\n",
              "      <th>furnishingstatus</th>\n",
              "    </tr>\n",
              "  </thead>\n",
              "  <tbody>\n",
              "    <tr>\n",
              "      <th>0</th>\n",
              "      <td>13300000</td>\n",
              "      <td>7420</td>\n",
              "      <td>4</td>\n",
              "      <td>2</td>\n",
              "      <td>3</td>\n",
              "      <td>yes</td>\n",
              "      <td>no</td>\n",
              "      <td>no</td>\n",
              "      <td>no</td>\n",
              "      <td>yes</td>\n",
              "      <td>2</td>\n",
              "      <td>yes</td>\n",
              "      <td>furnished</td>\n",
              "    </tr>\n",
              "    <tr>\n",
              "      <th>1</th>\n",
              "      <td>12250000</td>\n",
              "      <td>8960</td>\n",
              "      <td>4</td>\n",
              "      <td>4</td>\n",
              "      <td>4</td>\n",
              "      <td>yes</td>\n",
              "      <td>no</td>\n",
              "      <td>no</td>\n",
              "      <td>no</td>\n",
              "      <td>yes</td>\n",
              "      <td>3</td>\n",
              "      <td>no</td>\n",
              "      <td>furnished</td>\n",
              "    </tr>\n",
              "    <tr>\n",
              "      <th>2</th>\n",
              "      <td>12250000</td>\n",
              "      <td>9960</td>\n",
              "      <td>3</td>\n",
              "      <td>2</td>\n",
              "      <td>2</td>\n",
              "      <td>yes</td>\n",
              "      <td>no</td>\n",
              "      <td>yes</td>\n",
              "      <td>no</td>\n",
              "      <td>no</td>\n",
              "      <td>2</td>\n",
              "      <td>yes</td>\n",
              "      <td>semi-furnished</td>\n",
              "    </tr>\n",
              "    <tr>\n",
              "      <th>3</th>\n",
              "      <td>12215000</td>\n",
              "      <td>7500</td>\n",
              "      <td>4</td>\n",
              "      <td>2</td>\n",
              "      <td>2</td>\n",
              "      <td>yes</td>\n",
              "      <td>no</td>\n",
              "      <td>yes</td>\n",
              "      <td>no</td>\n",
              "      <td>yes</td>\n",
              "      <td>3</td>\n",
              "      <td>yes</td>\n",
              "      <td>furnished</td>\n",
              "    </tr>\n",
              "    <tr>\n",
              "      <th>4</th>\n",
              "      <td>11410000</td>\n",
              "      <td>7420</td>\n",
              "      <td>4</td>\n",
              "      <td>1</td>\n",
              "      <td>2</td>\n",
              "      <td>yes</td>\n",
              "      <td>yes</td>\n",
              "      <td>yes</td>\n",
              "      <td>no</td>\n",
              "      <td>yes</td>\n",
              "      <td>2</td>\n",
              "      <td>no</td>\n",
              "      <td>furnished</td>\n",
              "    </tr>\n",
              "    <tr>\n",
              "      <th>...</th>\n",
              "      <td>...</td>\n",
              "      <td>...</td>\n",
              "      <td>...</td>\n",
              "      <td>...</td>\n",
              "      <td>...</td>\n",
              "      <td>...</td>\n",
              "      <td>...</td>\n",
              "      <td>...</td>\n",
              "      <td>...</td>\n",
              "      <td>...</td>\n",
              "      <td>...</td>\n",
              "      <td>...</td>\n",
              "      <td>...</td>\n",
              "    </tr>\n",
              "    <tr>\n",
              "      <th>540</th>\n",
              "      <td>1820000</td>\n",
              "      <td>3000</td>\n",
              "      <td>2</td>\n",
              "      <td>1</td>\n",
              "      <td>1</td>\n",
              "      <td>yes</td>\n",
              "      <td>no</td>\n",
              "      <td>yes</td>\n",
              "      <td>no</td>\n",
              "      <td>no</td>\n",
              "      <td>2</td>\n",
              "      <td>no</td>\n",
              "      <td>unfurnished</td>\n",
              "    </tr>\n",
              "    <tr>\n",
              "      <th>541</th>\n",
              "      <td>1767150</td>\n",
              "      <td>2400</td>\n",
              "      <td>3</td>\n",
              "      <td>1</td>\n",
              "      <td>1</td>\n",
              "      <td>no</td>\n",
              "      <td>no</td>\n",
              "      <td>no</td>\n",
              "      <td>no</td>\n",
              "      <td>no</td>\n",
              "      <td>0</td>\n",
              "      <td>no</td>\n",
              "      <td>semi-furnished</td>\n",
              "    </tr>\n",
              "    <tr>\n",
              "      <th>542</th>\n",
              "      <td>1750000</td>\n",
              "      <td>3620</td>\n",
              "      <td>2</td>\n",
              "      <td>1</td>\n",
              "      <td>1</td>\n",
              "      <td>yes</td>\n",
              "      <td>no</td>\n",
              "      <td>no</td>\n",
              "      <td>no</td>\n",
              "      <td>no</td>\n",
              "      <td>0</td>\n",
              "      <td>no</td>\n",
              "      <td>unfurnished</td>\n",
              "    </tr>\n",
              "    <tr>\n",
              "      <th>543</th>\n",
              "      <td>1750000</td>\n",
              "      <td>2910</td>\n",
              "      <td>3</td>\n",
              "      <td>1</td>\n",
              "      <td>1</td>\n",
              "      <td>no</td>\n",
              "      <td>no</td>\n",
              "      <td>no</td>\n",
              "      <td>no</td>\n",
              "      <td>no</td>\n",
              "      <td>0</td>\n",
              "      <td>no</td>\n",
              "      <td>furnished</td>\n",
              "    </tr>\n",
              "    <tr>\n",
              "      <th>544</th>\n",
              "      <td>1750000</td>\n",
              "      <td>3850</td>\n",
              "      <td>3</td>\n",
              "      <td>1</td>\n",
              "      <td>2</td>\n",
              "      <td>yes</td>\n",
              "      <td>no</td>\n",
              "      <td>no</td>\n",
              "      <td>no</td>\n",
              "      <td>no</td>\n",
              "      <td>0</td>\n",
              "      <td>no</td>\n",
              "      <td>unfurnished</td>\n",
              "    </tr>\n",
              "  </tbody>\n",
              "</table>\n",
              "<p>545 rows × 13 columns</p>\n",
              "</div>\n",
              "    <div class=\"colab-df-buttons\">\n",
              "\n",
              "  <div class=\"colab-df-container\">\n",
              "    <button class=\"colab-df-convert\" onclick=\"convertToInteractive('df-d46bbfdc-bfad-4c42-8b07-2f279fd21240')\"\n",
              "            title=\"Convert this dataframe to an interactive table.\"\n",
              "            style=\"display:none;\">\n",
              "\n",
              "  <svg xmlns=\"http://www.w3.org/2000/svg\" height=\"24px\" viewBox=\"0 -960 960 960\">\n",
              "    <path d=\"M120-120v-720h720v720H120Zm60-500h600v-160H180v160Zm220 220h160v-160H400v160Zm0 220h160v-160H400v160ZM180-400h160v-160H180v160Zm440 0h160v-160H620v160ZM180-180h160v-160H180v160Zm440 0h160v-160H620v160Z\"/>\n",
              "  </svg>\n",
              "    </button>\n",
              "\n",
              "  <style>\n",
              "    .colab-df-container {\n",
              "      display:flex;\n",
              "      gap: 12px;\n",
              "    }\n",
              "\n",
              "    .colab-df-convert {\n",
              "      background-color: #E8F0FE;\n",
              "      border: none;\n",
              "      border-radius: 50%;\n",
              "      cursor: pointer;\n",
              "      display: none;\n",
              "      fill: #1967D2;\n",
              "      height: 32px;\n",
              "      padding: 0 0 0 0;\n",
              "      width: 32px;\n",
              "    }\n",
              "\n",
              "    .colab-df-convert:hover {\n",
              "      background-color: #E2EBFA;\n",
              "      box-shadow: 0px 1px 2px rgba(60, 64, 67, 0.3), 0px 1px 3px 1px rgba(60, 64, 67, 0.15);\n",
              "      fill: #174EA6;\n",
              "    }\n",
              "\n",
              "    .colab-df-buttons div {\n",
              "      margin-bottom: 4px;\n",
              "    }\n",
              "\n",
              "    [theme=dark] .colab-df-convert {\n",
              "      background-color: #3B4455;\n",
              "      fill: #D2E3FC;\n",
              "    }\n",
              "\n",
              "    [theme=dark] .colab-df-convert:hover {\n",
              "      background-color: #434B5C;\n",
              "      box-shadow: 0px 1px 3px 1px rgba(0, 0, 0, 0.15);\n",
              "      filter: drop-shadow(0px 1px 2px rgba(0, 0, 0, 0.3));\n",
              "      fill: #FFFFFF;\n",
              "    }\n",
              "  </style>\n",
              "\n",
              "    <script>\n",
              "      const buttonEl =\n",
              "        document.querySelector('#df-d46bbfdc-bfad-4c42-8b07-2f279fd21240 button.colab-df-convert');\n",
              "      buttonEl.style.display =\n",
              "        google.colab.kernel.accessAllowed ? 'block' : 'none';\n",
              "\n",
              "      async function convertToInteractive(key) {\n",
              "        const element = document.querySelector('#df-d46bbfdc-bfad-4c42-8b07-2f279fd21240');\n",
              "        const dataTable =\n",
              "          await google.colab.kernel.invokeFunction('convertToInteractive',\n",
              "                                                    [key], {});\n",
              "        if (!dataTable) return;\n",
              "\n",
              "        const docLinkHtml = 'Like what you see? Visit the ' +\n",
              "          '<a target=\"_blank\" href=https://colab.research.google.com/notebooks/data_table.ipynb>data table notebook</a>'\n",
              "          + ' to learn more about interactive tables.';\n",
              "        element.innerHTML = '';\n",
              "        dataTable['output_type'] = 'display_data';\n",
              "        await google.colab.output.renderOutput(dataTable, element);\n",
              "        const docLink = document.createElement('div');\n",
              "        docLink.innerHTML = docLinkHtml;\n",
              "        element.appendChild(docLink);\n",
              "      }\n",
              "    </script>\n",
              "  </div>\n",
              "\n",
              "\n",
              "<div id=\"df-2c50d1fb-c276-40ad-b863-118270f7f734\">\n",
              "  <button class=\"colab-df-quickchart\" onclick=\"quickchart('df-2c50d1fb-c276-40ad-b863-118270f7f734')\"\n",
              "            title=\"Suggest charts\"\n",
              "            style=\"display:none;\">\n",
              "\n",
              "<svg xmlns=\"http://www.w3.org/2000/svg\" height=\"24px\"viewBox=\"0 0 24 24\"\n",
              "     width=\"24px\">\n",
              "    <g>\n",
              "        <path d=\"M19 3H5c-1.1 0-2 .9-2 2v14c0 1.1.9 2 2 2h14c1.1 0 2-.9 2-2V5c0-1.1-.9-2-2-2zM9 17H7v-7h2v7zm4 0h-2V7h2v10zm4 0h-2v-4h2v4z\"/>\n",
              "    </g>\n",
              "</svg>\n",
              "  </button>\n",
              "\n",
              "<style>\n",
              "  .colab-df-quickchart {\n",
              "      --bg-color: #E8F0FE;\n",
              "      --fill-color: #1967D2;\n",
              "      --hover-bg-color: #E2EBFA;\n",
              "      --hover-fill-color: #174EA6;\n",
              "      --disabled-fill-color: #AAA;\n",
              "      --disabled-bg-color: #DDD;\n",
              "  }\n",
              "\n",
              "  [theme=dark] .colab-df-quickchart {\n",
              "      --bg-color: #3B4455;\n",
              "      --fill-color: #D2E3FC;\n",
              "      --hover-bg-color: #434B5C;\n",
              "      --hover-fill-color: #FFFFFF;\n",
              "      --disabled-bg-color: #3B4455;\n",
              "      --disabled-fill-color: #666;\n",
              "  }\n",
              "\n",
              "  .colab-df-quickchart {\n",
              "    background-color: var(--bg-color);\n",
              "    border: none;\n",
              "    border-radius: 50%;\n",
              "    cursor: pointer;\n",
              "    display: none;\n",
              "    fill: var(--fill-color);\n",
              "    height: 32px;\n",
              "    padding: 0;\n",
              "    width: 32px;\n",
              "  }\n",
              "\n",
              "  .colab-df-quickchart:hover {\n",
              "    background-color: var(--hover-bg-color);\n",
              "    box-shadow: 0 1px 2px rgba(60, 64, 67, 0.3), 0 1px 3px 1px rgba(60, 64, 67, 0.15);\n",
              "    fill: var(--button-hover-fill-color);\n",
              "  }\n",
              "\n",
              "  .colab-df-quickchart-complete:disabled,\n",
              "  .colab-df-quickchart-complete:disabled:hover {\n",
              "    background-color: var(--disabled-bg-color);\n",
              "    fill: var(--disabled-fill-color);\n",
              "    box-shadow: none;\n",
              "  }\n",
              "\n",
              "  .colab-df-spinner {\n",
              "    border: 2px solid var(--fill-color);\n",
              "    border-color: transparent;\n",
              "    border-bottom-color: var(--fill-color);\n",
              "    animation:\n",
              "      spin 1s steps(1) infinite;\n",
              "  }\n",
              "\n",
              "  @keyframes spin {\n",
              "    0% {\n",
              "      border-color: transparent;\n",
              "      border-bottom-color: var(--fill-color);\n",
              "      border-left-color: var(--fill-color);\n",
              "    }\n",
              "    20% {\n",
              "      border-color: transparent;\n",
              "      border-left-color: var(--fill-color);\n",
              "      border-top-color: var(--fill-color);\n",
              "    }\n",
              "    30% {\n",
              "      border-color: transparent;\n",
              "      border-left-color: var(--fill-color);\n",
              "      border-top-color: var(--fill-color);\n",
              "      border-right-color: var(--fill-color);\n",
              "    }\n",
              "    40% {\n",
              "      border-color: transparent;\n",
              "      border-right-color: var(--fill-color);\n",
              "      border-top-color: var(--fill-color);\n",
              "    }\n",
              "    60% {\n",
              "      border-color: transparent;\n",
              "      border-right-color: var(--fill-color);\n",
              "    }\n",
              "    80% {\n",
              "      border-color: transparent;\n",
              "      border-right-color: var(--fill-color);\n",
              "      border-bottom-color: var(--fill-color);\n",
              "    }\n",
              "    90% {\n",
              "      border-color: transparent;\n",
              "      border-bottom-color: var(--fill-color);\n",
              "    }\n",
              "  }\n",
              "</style>\n",
              "\n",
              "  <script>\n",
              "    async function quickchart(key) {\n",
              "      const quickchartButtonEl =\n",
              "        document.querySelector('#' + key + ' button');\n",
              "      quickchartButtonEl.disabled = true;  // To prevent multiple clicks.\n",
              "      quickchartButtonEl.classList.add('colab-df-spinner');\n",
              "      try {\n",
              "        const charts = await google.colab.kernel.invokeFunction(\n",
              "            'suggestCharts', [key], {});\n",
              "      } catch (error) {\n",
              "        console.error('Error during call to suggestCharts:', error);\n",
              "      }\n",
              "      quickchartButtonEl.classList.remove('colab-df-spinner');\n",
              "      quickchartButtonEl.classList.add('colab-df-quickchart-complete');\n",
              "    }\n",
              "    (() => {\n",
              "      let quickchartButtonEl =\n",
              "        document.querySelector('#df-2c50d1fb-c276-40ad-b863-118270f7f734 button');\n",
              "      quickchartButtonEl.style.display =\n",
              "        google.colab.kernel.accessAllowed ? 'block' : 'none';\n",
              "    })();\n",
              "  </script>\n",
              "</div>\n",
              "    </div>\n",
              "  </div>\n"
            ],
            "application/vnd.google.colaboratory.intrinsic+json": {
              "type": "dataframe",
              "variable_name": "df_pd2",
              "summary": "{\n  \"name\": \"df_pd2\",\n  \"rows\": 545,\n  \"fields\": [\n    {\n      \"column\": \"price\",\n      \"properties\": {\n        \"dtype\": \"number\",\n        \"std\": 1870439,\n        \"min\": 1750000,\n        \"max\": 13300000,\n        \"num_unique_values\": 219,\n        \"samples\": [\n          3773000,\n          5285000,\n          1820000\n        ],\n        \"semantic_type\": \"\",\n        \"description\": \"\"\n      }\n    },\n    {\n      \"column\": \"area\",\n      \"properties\": {\n        \"dtype\": \"number\",\n        \"std\": 2170,\n        \"min\": 1650,\n        \"max\": 16200,\n        \"num_unique_values\": 284,\n        \"samples\": [\n          6000,\n          2684,\n          5360\n        ],\n        \"semantic_type\": \"\",\n        \"description\": \"\"\n      }\n    },\n    {\n      \"column\": \"bedrooms\",\n      \"properties\": {\n        \"dtype\": \"number\",\n        \"std\": 0,\n        \"min\": 1,\n        \"max\": 6,\n        \"num_unique_values\": 6,\n        \"samples\": [\n          4,\n          3,\n          1\n        ],\n        \"semantic_type\": \"\",\n        \"description\": \"\"\n      }\n    },\n    {\n      \"column\": \"bathrooms\",\n      \"properties\": {\n        \"dtype\": \"number\",\n        \"std\": 0,\n        \"min\": 1,\n        \"max\": 4,\n        \"num_unique_values\": 4,\n        \"samples\": [\n          4,\n          3,\n          2\n        ],\n        \"semantic_type\": \"\",\n        \"description\": \"\"\n      }\n    },\n    {\n      \"column\": \"stories\",\n      \"properties\": {\n        \"dtype\": \"number\",\n        \"std\": 0,\n        \"min\": 1,\n        \"max\": 4,\n        \"num_unique_values\": 4,\n        \"samples\": [\n          4,\n          1,\n          3\n        ],\n        \"semantic_type\": \"\",\n        \"description\": \"\"\n      }\n    },\n    {\n      \"column\": \"mainroad\",\n      \"properties\": {\n        \"dtype\": \"category\",\n        \"num_unique_values\": 2,\n        \"samples\": [\n          \"no\",\n          \"yes\"\n        ],\n        \"semantic_type\": \"\",\n        \"description\": \"\"\n      }\n    },\n    {\n      \"column\": \"guestroom\",\n      \"properties\": {\n        \"dtype\": \"category\",\n        \"num_unique_values\": 2,\n        \"samples\": [\n          \"yes\",\n          \"no\"\n        ],\n        \"semantic_type\": \"\",\n        \"description\": \"\"\n      }\n    },\n    {\n      \"column\": \"basement\",\n      \"properties\": {\n        \"dtype\": \"category\",\n        \"num_unique_values\": 2,\n        \"samples\": [\n          \"yes\",\n          \"no\"\n        ],\n        \"semantic_type\": \"\",\n        \"description\": \"\"\n      }\n    },\n    {\n      \"column\": \"hotwaterheating\",\n      \"properties\": {\n        \"dtype\": \"category\",\n        \"num_unique_values\": 2,\n        \"samples\": [\n          \"yes\",\n          \"no\"\n        ],\n        \"semantic_type\": \"\",\n        \"description\": \"\"\n      }\n    },\n    {\n      \"column\": \"airconditioning\",\n      \"properties\": {\n        \"dtype\": \"category\",\n        \"num_unique_values\": 2,\n        \"samples\": [\n          \"no\",\n          \"yes\"\n        ],\n        \"semantic_type\": \"\",\n        \"description\": \"\"\n      }\n    },\n    {\n      \"column\": \"parking\",\n      \"properties\": {\n        \"dtype\": \"number\",\n        \"std\": 0,\n        \"min\": 0,\n        \"max\": 3,\n        \"num_unique_values\": 4,\n        \"samples\": [\n          3,\n          1\n        ],\n        \"semantic_type\": \"\",\n        \"description\": \"\"\n      }\n    },\n    {\n      \"column\": \"prefarea\",\n      \"properties\": {\n        \"dtype\": \"category\",\n        \"num_unique_values\": 2,\n        \"samples\": [\n          \"no\",\n          \"yes\"\n        ],\n        \"semantic_type\": \"\",\n        \"description\": \"\"\n      }\n    },\n    {\n      \"column\": \"furnishingstatus\",\n      \"properties\": {\n        \"dtype\": \"category\",\n        \"num_unique_values\": 3,\n        \"samples\": [\n          \"furnished\",\n          \"semi-furnished\"\n        ],\n        \"semantic_type\": \"\",\n        \"description\": \"\"\n      }\n    }\n  ]\n}"
            }
          },
          "metadata": {},
          "execution_count": 3
        }
      ]
    },
    {
      "cell_type": "markdown",
      "source": [
        "Для каждого столбца определите оптимальный с точки зрения потребления памяти тип данных - напишите свои выводы в комментариях"
      ],
      "metadata": {
        "id": "P44MTD37q7fa"
      }
    },
    {
      "cell_type": "code",
      "source": [
        "df_pd2.info()"
      ],
      "metadata": {
        "colab": {
          "base_uri": "https://localhost:8080/"
        },
        "id": "a1GUQvRxq3ft",
        "outputId": "8882a50d-a41e-4f7b-b0bb-3410db1bfa3e"
      },
      "execution_count": null,
      "outputs": [
        {
          "output_type": "stream",
          "name": "stdout",
          "text": [
            "<class 'pandas.core.frame.DataFrame'>\n",
            "RangeIndex: 545 entries, 0 to 544\n",
            "Data columns (total 13 columns):\n",
            " #   Column            Non-Null Count  Dtype \n",
            "---  ------            --------------  ----- \n",
            " 0   price             545 non-null    int64 \n",
            " 1   area              545 non-null    int64 \n",
            " 2   bedrooms          545 non-null    int64 \n",
            " 3   bathrooms         545 non-null    int64 \n",
            " 4   stories           545 non-null    int64 \n",
            " 5   mainroad          545 non-null    object\n",
            " 6   guestroom         545 non-null    object\n",
            " 7   basement          545 non-null    object\n",
            " 8   hotwaterheating   545 non-null    object\n",
            " 9   airconditioning   545 non-null    object\n",
            " 10  parking           545 non-null    int64 \n",
            " 11  prefarea          545 non-null    object\n",
            " 12  furnishingstatus  545 non-null    object\n",
            "dtypes: int64(6), object(7)\n",
            "memory usage: 55.5+ KB\n"
          ]
        }
      ]
    },
    {
      "cell_type": "code",
      "source": [
        "df_pd2.describe()"
      ],
      "metadata": {
        "colab": {
          "base_uri": "https://localhost:8080/",
          "height": 300
        },
        "id": "qNvUrlOmrml6",
        "outputId": "f3cbea0b-2cde-4c9a-8729-b8294d5130b7"
      },
      "execution_count": null,
      "outputs": [
        {
          "output_type": "execute_result",
          "data": {
            "text/plain": [
              "              price          area    bedrooms   bathrooms     stories  \\\n",
              "count  5.450000e+02    545.000000  545.000000  545.000000  545.000000   \n",
              "mean   4.766729e+06   5150.541284    2.965138    1.286239    1.805505   \n",
              "std    1.870440e+06   2170.141023    0.738064    0.502470    0.867492   \n",
              "min    1.750000e+06   1650.000000    1.000000    1.000000    1.000000   \n",
              "25%    3.430000e+06   3600.000000    2.000000    1.000000    1.000000   \n",
              "50%    4.340000e+06   4600.000000    3.000000    1.000000    2.000000   \n",
              "75%    5.740000e+06   6360.000000    3.000000    2.000000    2.000000   \n",
              "max    1.330000e+07  16200.000000    6.000000    4.000000    4.000000   \n",
              "\n",
              "          parking  \n",
              "count  545.000000  \n",
              "mean     0.693578  \n",
              "std      0.861586  \n",
              "min      0.000000  \n",
              "25%      0.000000  \n",
              "50%      0.000000  \n",
              "75%      1.000000  \n",
              "max      3.000000  "
            ],
            "text/html": [
              "\n",
              "  <div id=\"df-89416169-f40f-43e7-96c6-809d96b47104\" class=\"colab-df-container\">\n",
              "    <div>\n",
              "<style scoped>\n",
              "    .dataframe tbody tr th:only-of-type {\n",
              "        vertical-align: middle;\n",
              "    }\n",
              "\n",
              "    .dataframe tbody tr th {\n",
              "        vertical-align: top;\n",
              "    }\n",
              "\n",
              "    .dataframe thead th {\n",
              "        text-align: right;\n",
              "    }\n",
              "</style>\n",
              "<table border=\"1\" class=\"dataframe\">\n",
              "  <thead>\n",
              "    <tr style=\"text-align: right;\">\n",
              "      <th></th>\n",
              "      <th>price</th>\n",
              "      <th>area</th>\n",
              "      <th>bedrooms</th>\n",
              "      <th>bathrooms</th>\n",
              "      <th>stories</th>\n",
              "      <th>parking</th>\n",
              "    </tr>\n",
              "  </thead>\n",
              "  <tbody>\n",
              "    <tr>\n",
              "      <th>count</th>\n",
              "      <td>5.450000e+02</td>\n",
              "      <td>545.000000</td>\n",
              "      <td>545.000000</td>\n",
              "      <td>545.000000</td>\n",
              "      <td>545.000000</td>\n",
              "      <td>545.000000</td>\n",
              "    </tr>\n",
              "    <tr>\n",
              "      <th>mean</th>\n",
              "      <td>4.766729e+06</td>\n",
              "      <td>5150.541284</td>\n",
              "      <td>2.965138</td>\n",
              "      <td>1.286239</td>\n",
              "      <td>1.805505</td>\n",
              "      <td>0.693578</td>\n",
              "    </tr>\n",
              "    <tr>\n",
              "      <th>std</th>\n",
              "      <td>1.870440e+06</td>\n",
              "      <td>2170.141023</td>\n",
              "      <td>0.738064</td>\n",
              "      <td>0.502470</td>\n",
              "      <td>0.867492</td>\n",
              "      <td>0.861586</td>\n",
              "    </tr>\n",
              "    <tr>\n",
              "      <th>min</th>\n",
              "      <td>1.750000e+06</td>\n",
              "      <td>1650.000000</td>\n",
              "      <td>1.000000</td>\n",
              "      <td>1.000000</td>\n",
              "      <td>1.000000</td>\n",
              "      <td>0.000000</td>\n",
              "    </tr>\n",
              "    <tr>\n",
              "      <th>25%</th>\n",
              "      <td>3.430000e+06</td>\n",
              "      <td>3600.000000</td>\n",
              "      <td>2.000000</td>\n",
              "      <td>1.000000</td>\n",
              "      <td>1.000000</td>\n",
              "      <td>0.000000</td>\n",
              "    </tr>\n",
              "    <tr>\n",
              "      <th>50%</th>\n",
              "      <td>4.340000e+06</td>\n",
              "      <td>4600.000000</td>\n",
              "      <td>3.000000</td>\n",
              "      <td>1.000000</td>\n",
              "      <td>2.000000</td>\n",
              "      <td>0.000000</td>\n",
              "    </tr>\n",
              "    <tr>\n",
              "      <th>75%</th>\n",
              "      <td>5.740000e+06</td>\n",
              "      <td>6360.000000</td>\n",
              "      <td>3.000000</td>\n",
              "      <td>2.000000</td>\n",
              "      <td>2.000000</td>\n",
              "      <td>1.000000</td>\n",
              "    </tr>\n",
              "    <tr>\n",
              "      <th>max</th>\n",
              "      <td>1.330000e+07</td>\n",
              "      <td>16200.000000</td>\n",
              "      <td>6.000000</td>\n",
              "      <td>4.000000</td>\n",
              "      <td>4.000000</td>\n",
              "      <td>3.000000</td>\n",
              "    </tr>\n",
              "  </tbody>\n",
              "</table>\n",
              "</div>\n",
              "    <div class=\"colab-df-buttons\">\n",
              "\n",
              "  <div class=\"colab-df-container\">\n",
              "    <button class=\"colab-df-convert\" onclick=\"convertToInteractive('df-89416169-f40f-43e7-96c6-809d96b47104')\"\n",
              "            title=\"Convert this dataframe to an interactive table.\"\n",
              "            style=\"display:none;\">\n",
              "\n",
              "  <svg xmlns=\"http://www.w3.org/2000/svg\" height=\"24px\" viewBox=\"0 -960 960 960\">\n",
              "    <path d=\"M120-120v-720h720v720H120Zm60-500h600v-160H180v160Zm220 220h160v-160H400v160Zm0 220h160v-160H400v160ZM180-400h160v-160H180v160Zm440 0h160v-160H620v160ZM180-180h160v-160H180v160Zm440 0h160v-160H620v160Z\"/>\n",
              "  </svg>\n",
              "    </button>\n",
              "\n",
              "  <style>\n",
              "    .colab-df-container {\n",
              "      display:flex;\n",
              "      gap: 12px;\n",
              "    }\n",
              "\n",
              "    .colab-df-convert {\n",
              "      background-color: #E8F0FE;\n",
              "      border: none;\n",
              "      border-radius: 50%;\n",
              "      cursor: pointer;\n",
              "      display: none;\n",
              "      fill: #1967D2;\n",
              "      height: 32px;\n",
              "      padding: 0 0 0 0;\n",
              "      width: 32px;\n",
              "    }\n",
              "\n",
              "    .colab-df-convert:hover {\n",
              "      background-color: #E2EBFA;\n",
              "      box-shadow: 0px 1px 2px rgba(60, 64, 67, 0.3), 0px 1px 3px 1px rgba(60, 64, 67, 0.15);\n",
              "      fill: #174EA6;\n",
              "    }\n",
              "\n",
              "    .colab-df-buttons div {\n",
              "      margin-bottom: 4px;\n",
              "    }\n",
              "\n",
              "    [theme=dark] .colab-df-convert {\n",
              "      background-color: #3B4455;\n",
              "      fill: #D2E3FC;\n",
              "    }\n",
              "\n",
              "    [theme=dark] .colab-df-convert:hover {\n",
              "      background-color: #434B5C;\n",
              "      box-shadow: 0px 1px 3px 1px rgba(0, 0, 0, 0.15);\n",
              "      filter: drop-shadow(0px 1px 2px rgba(0, 0, 0, 0.3));\n",
              "      fill: #FFFFFF;\n",
              "    }\n",
              "  </style>\n",
              "\n",
              "    <script>\n",
              "      const buttonEl =\n",
              "        document.querySelector('#df-89416169-f40f-43e7-96c6-809d96b47104 button.colab-df-convert');\n",
              "      buttonEl.style.display =\n",
              "        google.colab.kernel.accessAllowed ? 'block' : 'none';\n",
              "\n",
              "      async function convertToInteractive(key) {\n",
              "        const element = document.querySelector('#df-89416169-f40f-43e7-96c6-809d96b47104');\n",
              "        const dataTable =\n",
              "          await google.colab.kernel.invokeFunction('convertToInteractive',\n",
              "                                                    [key], {});\n",
              "        if (!dataTable) return;\n",
              "\n",
              "        const docLinkHtml = 'Like what you see? Visit the ' +\n",
              "          '<a target=\"_blank\" href=https://colab.research.google.com/notebooks/data_table.ipynb>data table notebook</a>'\n",
              "          + ' to learn more about interactive tables.';\n",
              "        element.innerHTML = '';\n",
              "        dataTable['output_type'] = 'display_data';\n",
              "        await google.colab.output.renderOutput(dataTable, element);\n",
              "        const docLink = document.createElement('div');\n",
              "        docLink.innerHTML = docLinkHtml;\n",
              "        element.appendChild(docLink);\n",
              "      }\n",
              "    </script>\n",
              "  </div>\n",
              "\n",
              "\n",
              "<div id=\"df-235b1aec-51cf-4195-a585-45952df362cb\">\n",
              "  <button class=\"colab-df-quickchart\" onclick=\"quickchart('df-235b1aec-51cf-4195-a585-45952df362cb')\"\n",
              "            title=\"Suggest charts\"\n",
              "            style=\"display:none;\">\n",
              "\n",
              "<svg xmlns=\"http://www.w3.org/2000/svg\" height=\"24px\"viewBox=\"0 0 24 24\"\n",
              "     width=\"24px\">\n",
              "    <g>\n",
              "        <path d=\"M19 3H5c-1.1 0-2 .9-2 2v14c0 1.1.9 2 2 2h14c1.1 0 2-.9 2-2V5c0-1.1-.9-2-2-2zM9 17H7v-7h2v7zm4 0h-2V7h2v10zm4 0h-2v-4h2v4z\"/>\n",
              "    </g>\n",
              "</svg>\n",
              "  </button>\n",
              "\n",
              "<style>\n",
              "  .colab-df-quickchart {\n",
              "      --bg-color: #E8F0FE;\n",
              "      --fill-color: #1967D2;\n",
              "      --hover-bg-color: #E2EBFA;\n",
              "      --hover-fill-color: #174EA6;\n",
              "      --disabled-fill-color: #AAA;\n",
              "      --disabled-bg-color: #DDD;\n",
              "  }\n",
              "\n",
              "  [theme=dark] .colab-df-quickchart {\n",
              "      --bg-color: #3B4455;\n",
              "      --fill-color: #D2E3FC;\n",
              "      --hover-bg-color: #434B5C;\n",
              "      --hover-fill-color: #FFFFFF;\n",
              "      --disabled-bg-color: #3B4455;\n",
              "      --disabled-fill-color: #666;\n",
              "  }\n",
              "\n",
              "  .colab-df-quickchart {\n",
              "    background-color: var(--bg-color);\n",
              "    border: none;\n",
              "    border-radius: 50%;\n",
              "    cursor: pointer;\n",
              "    display: none;\n",
              "    fill: var(--fill-color);\n",
              "    height: 32px;\n",
              "    padding: 0;\n",
              "    width: 32px;\n",
              "  }\n",
              "\n",
              "  .colab-df-quickchart:hover {\n",
              "    background-color: var(--hover-bg-color);\n",
              "    box-shadow: 0 1px 2px rgba(60, 64, 67, 0.3), 0 1px 3px 1px rgba(60, 64, 67, 0.15);\n",
              "    fill: var(--button-hover-fill-color);\n",
              "  }\n",
              "\n",
              "  .colab-df-quickchart-complete:disabled,\n",
              "  .colab-df-quickchart-complete:disabled:hover {\n",
              "    background-color: var(--disabled-bg-color);\n",
              "    fill: var(--disabled-fill-color);\n",
              "    box-shadow: none;\n",
              "  }\n",
              "\n",
              "  .colab-df-spinner {\n",
              "    border: 2px solid var(--fill-color);\n",
              "    border-color: transparent;\n",
              "    border-bottom-color: var(--fill-color);\n",
              "    animation:\n",
              "      spin 1s steps(1) infinite;\n",
              "  }\n",
              "\n",
              "  @keyframes spin {\n",
              "    0% {\n",
              "      border-color: transparent;\n",
              "      border-bottom-color: var(--fill-color);\n",
              "      border-left-color: var(--fill-color);\n",
              "    }\n",
              "    20% {\n",
              "      border-color: transparent;\n",
              "      border-left-color: var(--fill-color);\n",
              "      border-top-color: var(--fill-color);\n",
              "    }\n",
              "    30% {\n",
              "      border-color: transparent;\n",
              "      border-left-color: var(--fill-color);\n",
              "      border-top-color: var(--fill-color);\n",
              "      border-right-color: var(--fill-color);\n",
              "    }\n",
              "    40% {\n",
              "      border-color: transparent;\n",
              "      border-right-color: var(--fill-color);\n",
              "      border-top-color: var(--fill-color);\n",
              "    }\n",
              "    60% {\n",
              "      border-color: transparent;\n",
              "      border-right-color: var(--fill-color);\n",
              "    }\n",
              "    80% {\n",
              "      border-color: transparent;\n",
              "      border-right-color: var(--fill-color);\n",
              "      border-bottom-color: var(--fill-color);\n",
              "    }\n",
              "    90% {\n",
              "      border-color: transparent;\n",
              "      border-bottom-color: var(--fill-color);\n",
              "    }\n",
              "  }\n",
              "</style>\n",
              "\n",
              "  <script>\n",
              "    async function quickchart(key) {\n",
              "      const quickchartButtonEl =\n",
              "        document.querySelector('#' + key + ' button');\n",
              "      quickchartButtonEl.disabled = true;  // To prevent multiple clicks.\n",
              "      quickchartButtonEl.classList.add('colab-df-spinner');\n",
              "      try {\n",
              "        const charts = await google.colab.kernel.invokeFunction(\n",
              "            'suggestCharts', [key], {});\n",
              "      } catch (error) {\n",
              "        console.error('Error during call to suggestCharts:', error);\n",
              "      }\n",
              "      quickchartButtonEl.classList.remove('colab-df-spinner');\n",
              "      quickchartButtonEl.classList.add('colab-df-quickchart-complete');\n",
              "    }\n",
              "    (() => {\n",
              "      let quickchartButtonEl =\n",
              "        document.querySelector('#df-235b1aec-51cf-4195-a585-45952df362cb button');\n",
              "      quickchartButtonEl.style.display =\n",
              "        google.colab.kernel.accessAllowed ? 'block' : 'none';\n",
              "    })();\n",
              "  </script>\n",
              "</div>\n",
              "    </div>\n",
              "  </div>\n"
            ],
            "application/vnd.google.colaboratory.intrinsic+json": {
              "type": "dataframe",
              "summary": "{\n  \"name\": \"df_pd2\",\n  \"rows\": 8,\n  \"fields\": [\n    {\n      \"column\": \"price\",\n      \"properties\": {\n        \"dtype\": \"number\",\n        \"std\": 4050766.5892287116,\n        \"min\": 545.0,\n        \"max\": 13300000.0,\n        \"num_unique_values\": 8,\n        \"samples\": [\n          4766729.247706422,\n          4340000.0,\n          545.0\n        ],\n        \"semantic_type\": \"\",\n        \"description\": \"\"\n      }\n    },\n    {\n      \"column\": \"area\",\n      \"properties\": {\n        \"dtype\": \"number\",\n        \"std\": 4906.2698868605785,\n        \"min\": 545.0,\n        \"max\": 16200.0,\n        \"num_unique_values\": 8,\n        \"samples\": [\n          5150.54128440367,\n          4600.0,\n          545.0\n        ],\n        \"semantic_type\": \"\",\n        \"description\": \"\"\n      }\n    },\n    {\n      \"column\": \"bedrooms\",\n      \"properties\": {\n        \"dtype\": \"number\",\n        \"std\": 191.74878444768592,\n        \"min\": 0.738063860568575,\n        \"max\": 545.0,\n        \"num_unique_values\": 7,\n        \"samples\": [\n          545.0,\n          2.9651376146788992,\n          3.0\n        ],\n        \"semantic_type\": \"\",\n        \"description\": \"\"\n      }\n    },\n    {\n      \"column\": \"bathrooms\",\n      \"properties\": {\n        \"dtype\": \"number\",\n        \"std\": 192.14476345868238,\n        \"min\": 0.502469616053218,\n        \"max\": 545.0,\n        \"num_unique_values\": 6,\n        \"samples\": [\n          545.0,\n          1.2862385321100918,\n          4.0\n        ],\n        \"semantic_type\": \"\",\n        \"description\": \"\"\n      }\n    },\n    {\n      \"column\": \"stories\",\n      \"properties\": {\n        \"dtype\": \"number\",\n        \"std\": 192.04914398408363,\n        \"min\": 0.8674924629255298,\n        \"max\": 545.0,\n        \"num_unique_values\": 6,\n        \"samples\": [\n          545.0,\n          1.8055045871559634,\n          4.0\n        ],\n        \"semantic_type\": \"\",\n        \"description\": \"\"\n      }\n    },\n    {\n      \"column\": \"parking\",\n      \"properties\": {\n        \"dtype\": \"number\",\n        \"std\": 192.40854964721382,\n        \"min\": 0.0,\n        \"max\": 545.0,\n        \"num_unique_values\": 6,\n        \"samples\": [\n          545.0,\n          0.6935779816513762,\n          3.0\n        ],\n        \"semantic_type\": \"\",\n        \"description\": \"\"\n      }\n    }\n  ]\n}"
            }
          },
          "metadata": {},
          "execution_count": 108
        }
      ]
    },
    {
      "cell_type": "markdown",
      "source": [
        "![image.png](data:image/png;base64,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)"
      ],
      "metadata": {
        "id": "pWVkzcixuoZ7"
      }
    },
    {
      "cell_type": "code",
      "source": [
        "df_2 = df_pd2.fillna(0)"
      ],
      "metadata": {
        "id": "tXR8nfH8r6hv"
      },
      "execution_count": null,
      "outputs": []
    },
    {
      "cell_type": "markdown",
      "source": [
        "Вывод: в анализируемом df типы данных - целочисленные (int64) и строковые (obiect). Анализ диапозона (от мин до макс) изменения числовых значений показал, что для их хранения можно использовать другие типы данных, занимающие меньше памяти. Т.е. price (мин зн -1,75*10^6, макс - 1,33*10^7) поэтому можно использовать int32, area (1650 до 16200) - int 16, остальные числовые данные можно преобразовать в int8 с учетом диапазона значений. Строковые данные также можно преобразовать в категориальные поскольку они содержат не много уникальных значений."
      ],
      "metadata": {
        "id": "31fOIV8N0ZFp"
      }
    },
    {
      "cell_type": "markdown",
      "source": [
        "Поменяйте типы данных столбцов датафрейма на выбранные вами в прошлом пункте и сравните потребление памяти до и после оптимизации"
      ],
      "metadata": {
        "id": "yK8sDPbBvXw-"
      }
    },
    {
      "cell_type": "code",
      "source": [
        "df_pd2['price'] = df_pd2['price'].astype(np.int32)\n",
        "df_pd2['area'] = df_pd2['area'].astype(np.int16)\n",
        "df_pd2['bedrooms'] = df_pd2['bedrooms'].astype(np.int8)\n",
        "df_pd2['bathrooms'] = df_pd2['bathrooms'].astype(np.int8)\n",
        "df_pd2['stories'] = df_pd2['stories'].astype(np.int8)\n",
        "df_pd2['parking'] = df_pd2['parking'].astype(np.int8)\n"
      ],
      "metadata": {
        "id": "vKZnl1GOsEmp"
      },
      "execution_count": null,
      "outputs": []
    },
    {
      "cell_type": "code",
      "source": [
        "df_pd2.info()"
      ],
      "metadata": {
        "colab": {
          "base_uri": "https://localhost:8080/"
        },
        "id": "bWc-4UYNsF0k",
        "outputId": "3a8c940d-2bd7-4f29-d5f1-da49b20782a5"
      },
      "execution_count": null,
      "outputs": [
        {
          "output_type": "stream",
          "name": "stdout",
          "text": [
            "<class 'pandas.core.frame.DataFrame'>\n",
            "RangeIndex: 545 entries, 0 to 544\n",
            "Data columns (total 13 columns):\n",
            " #   Column            Non-Null Count  Dtype \n",
            "---  ------            --------------  ----- \n",
            " 0   price             545 non-null    int32 \n",
            " 1   area              545 non-null    int16 \n",
            " 2   bedrooms          545 non-null    int8  \n",
            " 3   bathrooms         545 non-null    int8  \n",
            " 4   stories           545 non-null    int8  \n",
            " 5   mainroad          545 non-null    object\n",
            " 6   guestroom         545 non-null    object\n",
            " 7   basement          545 non-null    object\n",
            " 8   hotwaterheating   545 non-null    object\n",
            " 9   airconditioning   545 non-null    object\n",
            " 10  parking           545 non-null    int8  \n",
            " 11  prefarea          545 non-null    object\n",
            " 12  furnishingstatus  545 non-null    object\n",
            "dtypes: int16(1), int32(1), int8(4), object(7)\n",
            "memory usage: 35.3+ KB\n"
          ]
        }
      ]
    },
    {
      "cell_type": "code",
      "source": [
        "df_pd2['mainroad'].info(memory_usage=\"deep\")"
      ],
      "metadata": {
        "colab": {
          "base_uri": "https://localhost:8080/"
        },
        "id": "HGE8ae0hx0vX",
        "outputId": "9e93040a-f909-4302-be11-79720aad733b"
      },
      "execution_count": null,
      "outputs": [
        {
          "output_type": "stream",
          "name": "stdout",
          "text": [
            "<class 'pandas.core.series.Series'>\n",
            "RangeIndex: 545 entries, 0 to 544\n",
            "Series name: mainroad\n",
            "Non-Null Count  Dtype \n",
            "--------------  ----- \n",
            "545 non-null    object\n",
            "dtypes: object(1)\n",
            "memory usage: 32.0 KB\n"
          ]
        }
      ]
    },
    {
      "cell_type": "code",
      "source": [
        "df_pd2['mainroad'] = df_2['mainroad'].astype(\"category\")\n",
        "df_pd2['mainroad'].info(memory_usage=\"deep\")"
      ],
      "metadata": {
        "colab": {
          "base_uri": "https://localhost:8080/"
        },
        "id": "JbKMCillx6ml",
        "outputId": "e8d16b23-7391-4f12-cadc-119258f39b62"
      },
      "execution_count": null,
      "outputs": [
        {
          "output_type": "stream",
          "name": "stdout",
          "text": [
            "<class 'pandas.core.series.Series'>\n",
            "RangeIndex: 545 entries, 0 to 544\n",
            "Series name: mainroad\n",
            "Non-Null Count  Dtype   \n",
            "--------------  -----   \n",
            "545 non-null    category\n",
            "dtypes: category(1)\n",
            "memory usage: 904.0 bytes\n"
          ]
        }
      ]
    },
    {
      "cell_type": "code",
      "source": [
        "df_pd2['guestroom'].info(memory_usage=\"deep\")\n",
        "df_pd2['basement'].info(memory_usage=\"deep\")\n",
        "df_pd2['hotwaterheating'].info(memory_usage=\"deep\")\n",
        "df_pd2['airconditioning'].info(memory_usage=\"deep\")\n",
        "df_pd2['prefarea'].info(memory_usage=\"deep\")\n",
        "df_pd2['furnishingstatus'].info(memory_usage=\"deep\")"
      ],
      "metadata": {
        "colab": {
          "base_uri": "https://localhost:8080/"
        },
        "id": "dbM5CN_1y2ye",
        "outputId": "62758165-0771-4536-fb0a-2b422141fb47"
      },
      "execution_count": null,
      "outputs": [
        {
          "output_type": "stream",
          "name": "stdout",
          "text": [
            "<class 'pandas.core.series.Series'>\n",
            "RangeIndex: 545 entries, 0 to 544\n",
            "Series name: guestroom\n",
            "Non-Null Count  Dtype   \n",
            "--------------  -----   \n",
            "545 non-null    category\n",
            "dtypes: category(1)\n",
            "memory usage: 904.0 bytes\n",
            "<class 'pandas.core.series.Series'>\n",
            "RangeIndex: 545 entries, 0 to 544\n",
            "Series name: basement\n",
            "Non-Null Count  Dtype   \n",
            "--------------  -----   \n",
            "545 non-null    category\n",
            "dtypes: category(1)\n",
            "memory usage: 904.0 bytes\n",
            "<class 'pandas.core.series.Series'>\n",
            "RangeIndex: 545 entries, 0 to 544\n",
            "Series name: hotwaterheating\n",
            "Non-Null Count  Dtype   \n",
            "--------------  -----   \n",
            "545 non-null    category\n",
            "dtypes: category(1)\n",
            "memory usage: 904.0 bytes\n",
            "<class 'pandas.core.series.Series'>\n",
            "RangeIndex: 545 entries, 0 to 544\n",
            "Series name: airconditioning\n",
            "Non-Null Count  Dtype   \n",
            "--------------  -----   \n",
            "545 non-null    category\n",
            "dtypes: category(1)\n",
            "memory usage: 904.0 bytes\n",
            "<class 'pandas.core.series.Series'>\n",
            "RangeIndex: 545 entries, 0 to 544\n",
            "Series name: prefarea\n",
            "Non-Null Count  Dtype   \n",
            "--------------  -----   \n",
            "545 non-null    category\n",
            "dtypes: category(1)\n",
            "memory usage: 904.0 bytes\n",
            "<class 'pandas.core.series.Series'>\n",
            "RangeIndex: 545 entries, 0 to 544\n",
            "Series name: furnishingstatus\n",
            "Non-Null Count  Dtype   \n",
            "--------------  -----   \n",
            "545 non-null    category\n",
            "dtypes: category(1)\n",
            "memory usage: 904.0 bytes\n"
          ]
        }
      ]
    },
    {
      "cell_type": "code",
      "source": [
        "df_pd2['guestroom'] = df_2['mainroad'].astype(\"category\")\n",
        "df_pd2['guestroom'].info(memory_usage=\"deep\")"
      ],
      "metadata": {
        "colab": {
          "base_uri": "https://localhost:8080/"
        },
        "id": "ooAHElO2zcj-",
        "outputId": "d083997d-07ec-4ed9-ad75-15d5364354aa"
      },
      "execution_count": null,
      "outputs": [
        {
          "output_type": "stream",
          "name": "stdout",
          "text": [
            "<class 'pandas.core.series.Series'>\n",
            "RangeIndex: 545 entries, 0 to 544\n",
            "Series name: guestroom\n",
            "Non-Null Count  Dtype   \n",
            "--------------  -----   \n",
            "545 non-null    category\n",
            "dtypes: category(1)\n",
            "memory usage: 904.0 bytes\n"
          ]
        }
      ]
    },
    {
      "cell_type": "code",
      "source": [
        "df_pd2['guestroom'] = df_2['mainroad'].astype(\"category\")\n",
        "df_pd2['guestroom'].info(memory_usage=\"deep\")"
      ],
      "metadata": {
        "colab": {
          "base_uri": "https://localhost:8080/"
        },
        "id": "DTrq96EKzj0R",
        "outputId": "2213a207-eb94-48cb-e251-821745c656d3"
      },
      "execution_count": null,
      "outputs": [
        {
          "output_type": "stream",
          "name": "stdout",
          "text": [
            "<class 'pandas.core.series.Series'>\n",
            "RangeIndex: 545 entries, 0 to 544\n",
            "Series name: guestroom\n",
            "Non-Null Count  Dtype   \n",
            "--------------  -----   \n",
            "545 non-null    category\n",
            "dtypes: category(1)\n",
            "memory usage: 904.0 bytes\n"
          ]
        }
      ]
    },
    {
      "cell_type": "code",
      "source": [
        "df_pd2['basement'] = df_2['mainroad'].astype(\"category\")\n",
        "df_pd2['basement'].info(memory_usage=\"deep\")"
      ],
      "metadata": {
        "colab": {
          "base_uri": "https://localhost:8080/"
        },
        "id": "keT4mrARzkYs",
        "outputId": "20920a9f-3bd4-43ef-be47-9c1b4bb4e96d"
      },
      "execution_count": null,
      "outputs": [
        {
          "output_type": "stream",
          "name": "stdout",
          "text": [
            "<class 'pandas.core.series.Series'>\n",
            "RangeIndex: 545 entries, 0 to 544\n",
            "Series name: basement\n",
            "Non-Null Count  Dtype   \n",
            "--------------  -----   \n",
            "545 non-null    category\n",
            "dtypes: category(1)\n",
            "memory usage: 904.0 bytes\n"
          ]
        }
      ]
    },
    {
      "cell_type": "code",
      "source": [
        "df_pd2['hotwaterheating'] = df_2['mainroad'].astype(\"category\")\n",
        "df_pd2['hotwaterheating'].info(memory_usage=\"deep\")"
      ],
      "metadata": {
        "colab": {
          "base_uri": "https://localhost:8080/"
        },
        "id": "HTF1tnuAzksn",
        "outputId": "87e56d90-4e8c-4329-c7de-09ae36a3190d"
      },
      "execution_count": null,
      "outputs": [
        {
          "output_type": "stream",
          "name": "stdout",
          "text": [
            "<class 'pandas.core.series.Series'>\n",
            "RangeIndex: 545 entries, 0 to 544\n",
            "Series name: hotwaterheating\n",
            "Non-Null Count  Dtype   \n",
            "--------------  -----   \n",
            "545 non-null    category\n",
            "dtypes: category(1)\n",
            "memory usage: 904.0 bytes\n"
          ]
        }
      ]
    },
    {
      "cell_type": "code",
      "source": [
        "df_pd2['airconditioning'] = df_2['mainroad'].astype(\"category\")\n",
        "df_pd2['airconditioning'].info(memory_usage=\"deep\")"
      ],
      "metadata": {
        "colab": {
          "base_uri": "https://localhost:8080/"
        },
        "id": "ziPxmB_NzlI3",
        "outputId": "546cf910-4b97-4804-dd0f-6284c79bac2f"
      },
      "execution_count": null,
      "outputs": [
        {
          "output_type": "stream",
          "name": "stdout",
          "text": [
            "<class 'pandas.core.series.Series'>\n",
            "RangeIndex: 545 entries, 0 to 544\n",
            "Series name: airconditioning\n",
            "Non-Null Count  Dtype   \n",
            "--------------  -----   \n",
            "545 non-null    category\n",
            "dtypes: category(1)\n",
            "memory usage: 904.0 bytes\n"
          ]
        }
      ]
    },
    {
      "cell_type": "code",
      "source": [
        "df_pd2['prefarea'] = df_2['mainroad'].astype(\"category\")\n",
        "df_pd2['prefarea'].info(memory_usage=\"deep\")"
      ],
      "metadata": {
        "colab": {
          "base_uri": "https://localhost:8080/"
        },
        "id": "KT0ZPI_lzliT",
        "outputId": "ede64cfa-74fd-4177-ee00-be3169389a5b"
      },
      "execution_count": null,
      "outputs": [
        {
          "output_type": "stream",
          "name": "stdout",
          "text": [
            "<class 'pandas.core.series.Series'>\n",
            "RangeIndex: 545 entries, 0 to 544\n",
            "Series name: prefarea\n",
            "Non-Null Count  Dtype   \n",
            "--------------  -----   \n",
            "545 non-null    category\n",
            "dtypes: category(1)\n",
            "memory usage: 904.0 bytes\n"
          ]
        }
      ]
    },
    {
      "cell_type": "code",
      "source": [
        "df_pd2['furnishingstatus'] = df_2['mainroad'].astype(\"category\")\n",
        "df_pd2['furnishingstatus'].info(memory_usage=\"deep\")"
      ],
      "metadata": {
        "colab": {
          "base_uri": "https://localhost:8080/"
        },
        "id": "s7cqAEarz7tm",
        "outputId": "9763596b-9bf8-4f3c-c3f4-e0a3b0ddfbad"
      },
      "execution_count": null,
      "outputs": [
        {
          "output_type": "stream",
          "name": "stdout",
          "text": [
            "<class 'pandas.core.series.Series'>\n",
            "RangeIndex: 545 entries, 0 to 544\n",
            "Series name: furnishingstatus\n",
            "Non-Null Count  Dtype   \n",
            "--------------  -----   \n",
            "545 non-null    category\n",
            "dtypes: category(1)\n",
            "memory usage: 904.0 bytes\n"
          ]
        }
      ]
    },
    {
      "cell_type": "code",
      "source": [
        "df_pd2.info()"
      ],
      "metadata": {
        "colab": {
          "base_uri": "https://localhost:8080/"
        },
        "id": "ZcuqJEoc0NJd",
        "outputId": "6fa3580e-827a-4bcf-e933-166227b18c0b"
      },
      "execution_count": null,
      "outputs": [
        {
          "output_type": "stream",
          "name": "stdout",
          "text": [
            "<class 'pandas.core.frame.DataFrame'>\n",
            "RangeIndex: 545 entries, 0 to 544\n",
            "Data columns (total 14 columns):\n",
            " #   Column              Non-Null Count  Dtype   \n",
            "---  ------              --------------  -----   \n",
            " 0   price               545 non-null    int32   \n",
            " 1   area                545 non-null    int16   \n",
            " 2   bedrooms            545 non-null    int8    \n",
            " 3   bathrooms           545 non-null    int8    \n",
            " 4   stories             545 non-null    int8    \n",
            " 5   mainroad            545 non-null    category\n",
            " 6   guestroom           545 non-null    category\n",
            " 7   basement            545 non-null    category\n",
            " 8   hotwaterheating     545 non-null    category\n",
            " 9   airconditioning     545 non-null    category\n",
            " 10  parking             545 non-null    int8    \n",
            " 11  prefarea            545 non-null    category\n",
            " 12  furnishingstatus    545 non-null    category\n",
            " 13  furnishingstatus    545 non-null    category\n",
            "dtypes: category(8), int16(1), int32(1), int8(4)\n",
            "memory usage: 10.7 KB\n"
          ]
        }
      ]
    }
  ]
}